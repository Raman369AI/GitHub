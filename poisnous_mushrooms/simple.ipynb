{
 "cells": [
  {
   "cell_type": "code",
   "execution_count": 1,
   "id": "7df9140457caed5e",
   "metadata": {
    "ExecuteTime": {
     "end_time": "2024-09-15T03:55:52.357218Z",
     "start_time": "2024-09-15T03:55:52.330726Z"
    }
   },
   "outputs": [],
   "source": [
    "# Import libraries\n",
    "import pandas as pd\n",
    "import numpy as np\n",
    "import matplotlib.pyplot as plt\n",
    "import seaborn as sns"
   ]
  },
  {
   "cell_type": "markdown",
   "id": "2e44cfe2f556cba1",
   "metadata": {},
   "source": []
  },
  {
   "cell_type": "code",
   "execution_count": 2,
   "id": "initial_id",
   "metadata": {
    "ExecuteTime": {
     "end_time": "2024-09-09T05:28:30.778868Z",
     "start_time": "2024-09-09T05:28:29.121638Z"
    },
    "collapsed": true
   },
   "outputs": [],
   "source": [
    "mushrooms = pd.read_csv(\"C://Users//raman//Desktop//train.csv\")"
   ]
  },
  {
   "cell_type": "markdown",
   "id": "62a8c026dc794d85",
   "metadata": {},
   "source": []
  },
  {
   "cell_type": "code",
   "execution_count": null,
   "id": "e65e58a1b7e04493",
   "metadata": {
    "ExecuteTime": {
     "end_time": "2024-09-09T05:28:30.841748Z",
     "start_time": "2024-09-09T05:28:30.810091Z"
    }
   },
   "outputs": [],
   "source": [
    "mushrooms.shape"
   ]
  },
  {
   "cell_type": "code",
   "execution_count": null,
   "id": "30bf99c2be46adbf",
   "metadata": {
    "ExecuteTime": {
     "end_time": "2024-09-09T05:28:32.344307Z",
     "start_time": "2024-09-09T05:28:32.303044Z"
    }
   },
   "outputs": [],
   "source": [
    "mushrooms.columns"
   ]
  },
  {
   "cell_type": "code",
   "execution_count": null,
   "id": "311f90a034edb242",
   "metadata": {
    "ExecuteTime": {
     "start_time": "2024-09-09T05:28:32.438175Z"
    },
    "jupyter": {
     "is_executing": true
    }
   },
   "outputs": [],
   "source": [
    "mushrooms['class'].unique()"
   ]
  },
  {
   "cell_type": "code",
   "execution_count": null,
   "id": "451dabab37598330",
   "metadata": {
    "ExecuteTime": {
     "end_time": "2024-09-09T05:27:40.144175Z",
     "start_time": "2024-09-09T05:27:40.103822Z"
    }
   },
   "outputs": [],
   "source": [
    "mushrooms['cap-diameter'].astype(float)"
   ]
  },
  {
   "cell_type": "markdown",
   "id": "622e4f817857876",
   "metadata": {},
   "source": [
    "#Data Cleaning \n",
    "The code is values not given would not be able to check the same.\n",
    "When a column of pandas is addressed it can be treated as series and any condition would check the index as it is akin to a dictionary, use values instead."
   ]
  },
  {
   "cell_type": "code",
   "execution_count": null,
   "id": "6a76f36230dae03b",
   "metadata": {
    "ExecuteTime": {
     "end_time": "2024-08-24T04:53:10.575906Z",
     "start_time": "2024-08-24T04:53:08.345622Z"
    }
   },
   "outputs": [],
   "source": [
    "# Assuming 'mushrooms' is your DataFrame\n",
    "i_list = {}\n",
    "for i in mushrooms.columns:\n",
    "    if mushrooms[i].dtype == object :\n",
    "        i_list[i] = mushrooms[i].value_counts().to_dict()\n",
    "        print(i_list[i])      "
   ]
  },
  {
   "cell_type": "markdown",
   "id": "93f36f87",
   "metadata": {},
   "source": [
    "# Dict Comprehension: {key_expression: value_expression for item in iterable if condition}\n",
    "\n",
    "# List Expression: [expression for item in iterable if condition]\n"
   ]
  },
  {
   "cell_type": "code",
   "execution_count": null,
   "id": "966d1ad737f06012",
   "metadata": {
    "ExecuteTime": {
     "end_time": "2024-08-24T04:53:18.968352Z",
     "start_time": "2024-08-24T04:53:18.936856Z"
    }
   },
   "outputs": [],
   "source": [
    "filtered_i_list = {col: {value: count for value, count in counts.items() if count >= 10} for col, counts in i_list.items()}\n",
    "print(filtered_i_list)"
   ]
  },
  {
   "cell_type": "code",
   "execution_count": 9,
   "id": "c988f77d",
   "metadata": {},
   "outputs": [],
   "source": [
    "filtered_col = list(filtered_i_list.keys())"
   ]
  },
  {
   "cell_type": "code",
   "execution_count": 10,
   "id": "8c7e4e4860d122b9",
   "metadata": {
    "ExecuteTime": {
     "end_time": "2024-08-24T04:53:45.232411Z",
     "start_time": "2024-08-24T04:53:29.603638Z"
    }
   },
   "outputs": [],
   "source": [
    "for i in filtered_col:\n",
    "    mushrooms[i] = mushrooms[i].apply(lambda x: x if x in filtered_i_list[i].keys() else np.nan)"
   ]
  },
  {
   "cell_type": "code",
   "execution_count": 11,
   "id": "4d98db4e",
   "metadata": {},
   "outputs": [],
   "source": [
    "#mushrooms.to_csv('mushrooms.csv', index = False)"
   ]
  },
  {
   "cell_type": "code",
   "execution_count": null,
   "id": "2974e05ab4317f37",
   "metadata": {
    "ExecuteTime": {
     "end_time": "2024-08-19T17:42:32.850970Z",
     "start_time": "2024-08-19T17:42:31.843670Z"
    }
   },
   "outputs": [],
   "source": [
    "for i in mushrooms.columns:\n",
    "    print(i)\n",
    "    print(mushrooms[i].unique())"
   ]
  },
  {
   "cell_type": "code",
   "execution_count": null,
   "id": "44fcd295",
   "metadata": {},
   "outputs": [],
   "source": [
    "entropy(mushrooms['class'])"
   ]
  },
  {
   "cell_type": "code",
   "execution_count": null,
   "id": "4224132f582ba355",
   "metadata": {
    "ExecuteTime": {
     "end_time": "2024-08-19T17:42:32.919236Z",
     "start_time": "2024-08-19T17:42:32.916628Z"
    }
   },
   "outputs": [],
   "source": [
    "filtered_col"
   ]
  },
  {
   "cell_type": "code",
   "execution_count": null,
   "id": "b99b727c",
   "metadata": {},
   "outputs": [],
   "source": [
    "mushrooms.shape"
   ]
  },
  {
   "cell_type": "code",
   "execution_count": null,
   "id": "b3ecbdab1496a511",
   "metadata": {
    "ExecuteTime": {
     "end_time": "2024-08-24T04:55:09.533316Z",
     "start_time": "2024-08-24T04:55:07.580124Z"
    }
   },
   "outputs": [],
   "source": [
    "mushrooms.isna().sum()\n"
   ]
  },
  {
   "cell_type": "code",
   "execution_count": 110,
   "id": "bf393934",
   "metadata": {},
   "outputs": [],
   "source": [
    "import numpy as np\n",
    "\n",
    "def calculate_entropy(column):\n",
    "    counts = column.value_counts(normalize=False).to_list()\n",
    "    classes = len(counts)\n",
    "    total =  3116945 # sum of counts to get the total number of records\n",
    "    entropy = 0\n",
    "\n",
    "    for count in counts:\n",
    "        probability = count / total\n",
    "        if probability > 0:  # avoid log(0)\n",
    "            entropy += -probability * np.log2(probability)  # accumulate entropy\n",
    "        else:\n",
    "            entropy = 0\n",
    "    return entropy\n",
    "\n",
    "\n"
   ]
  },
  {
   "cell_type": "code",
   "execution_count": null,
   "id": "aa68d3ee",
   "metadata": {},
   "outputs": [],
   "source": [
    "counts = []\n",
    "counts = mushrooms['cap-color'].value_counts(normalize=False).\n",
    "counts"
   ]
  },
  {
   "cell_type": "code",
   "execution_count": 62,
   "id": "02945659",
   "metadata": {},
   "outputs": [],
   "source": []
  },
  {
   "cell_type": "code",
   "execution_count": null,
   "id": "ed237e0a",
   "metadata": {},
   "outputs": [],
   "source": [
    "sum"
   ]
  },
  {
   "cell_type": "code",
   "execution_count": 100,
   "id": "67dd78a2",
   "metadata": {},
   "outputs": [
    {
     "data": {
      "text/html": [
       "<div>\n",
       "<style scoped>\n",
       "    .dataframe tbody tr th:only-of-type {\n",
       "        vertical-align: middle;\n",
       "    }\n",
       "\n",
       "    .dataframe tbody tr th {\n",
       "        vertical-align: top;\n",
       "    }\n",
       "\n",
       "    .dataframe thead th {\n",
       "        text-align: right;\n",
       "    }\n",
       "</style>\n",
       "<table border=\"1\" class=\"dataframe\">\n",
       "  <thead>\n",
       "    <tr style=\"text-align: right;\">\n",
       "      <th></th>\n",
       "      <th>id</th>\n",
       "      <th>class</th>\n",
       "      <th>cap-diameter</th>\n",
       "      <th>cap-shape</th>\n",
       "      <th>cap-surface</th>\n",
       "      <th>cap-color</th>\n",
       "      <th>does-bruise-or-bleed</th>\n",
       "      <th>gill-attachment</th>\n",
       "      <th>gill-spacing</th>\n",
       "      <th>gill-color</th>\n",
       "      <th>...</th>\n",
       "      <th>stem-root</th>\n",
       "      <th>stem-surface</th>\n",
       "      <th>stem-color</th>\n",
       "      <th>veil-type</th>\n",
       "      <th>veil-color</th>\n",
       "      <th>has-ring</th>\n",
       "      <th>ring-type</th>\n",
       "      <th>spore-print-color</th>\n",
       "      <th>habitat</th>\n",
       "      <th>season</th>\n",
       "    </tr>\n",
       "  </thead>\n",
       "  <tbody>\n",
       "    <tr>\n",
       "      <th>0</th>\n",
       "      <td>0</td>\n",
       "      <td>e</td>\n",
       "      <td>8.80</td>\n",
       "      <td>f</td>\n",
       "      <td>s</td>\n",
       "      <td>u</td>\n",
       "      <td>f</td>\n",
       "      <td>a</td>\n",
       "      <td>c</td>\n",
       "      <td>w</td>\n",
       "      <td>...</td>\n",
       "      <td>NaN</td>\n",
       "      <td>NaN</td>\n",
       "      <td>w</td>\n",
       "      <td>NaN</td>\n",
       "      <td>NaN</td>\n",
       "      <td>f</td>\n",
       "      <td>f</td>\n",
       "      <td>NaN</td>\n",
       "      <td>d</td>\n",
       "      <td>a</td>\n",
       "    </tr>\n",
       "    <tr>\n",
       "      <th>1</th>\n",
       "      <td>1</td>\n",
       "      <td>p</td>\n",
       "      <td>4.51</td>\n",
       "      <td>x</td>\n",
       "      <td>h</td>\n",
       "      <td>o</td>\n",
       "      <td>f</td>\n",
       "      <td>a</td>\n",
       "      <td>c</td>\n",
       "      <td>n</td>\n",
       "      <td>...</td>\n",
       "      <td>NaN</td>\n",
       "      <td>y</td>\n",
       "      <td>o</td>\n",
       "      <td>NaN</td>\n",
       "      <td>NaN</td>\n",
       "      <td>t</td>\n",
       "      <td>z</td>\n",
       "      <td>NaN</td>\n",
       "      <td>d</td>\n",
       "      <td>w</td>\n",
       "    </tr>\n",
       "    <tr>\n",
       "      <th>2</th>\n",
       "      <td>2</td>\n",
       "      <td>e</td>\n",
       "      <td>6.94</td>\n",
       "      <td>f</td>\n",
       "      <td>s</td>\n",
       "      <td>b</td>\n",
       "      <td>f</td>\n",
       "      <td>x</td>\n",
       "      <td>c</td>\n",
       "      <td>w</td>\n",
       "      <td>...</td>\n",
       "      <td>NaN</td>\n",
       "      <td>s</td>\n",
       "      <td>n</td>\n",
       "      <td>NaN</td>\n",
       "      <td>NaN</td>\n",
       "      <td>f</td>\n",
       "      <td>f</td>\n",
       "      <td>NaN</td>\n",
       "      <td>l</td>\n",
       "      <td>w</td>\n",
       "    </tr>\n",
       "    <tr>\n",
       "      <th>3</th>\n",
       "      <td>3</td>\n",
       "      <td>e</td>\n",
       "      <td>3.88</td>\n",
       "      <td>f</td>\n",
       "      <td>y</td>\n",
       "      <td>g</td>\n",
       "      <td>f</td>\n",
       "      <td>s</td>\n",
       "      <td>NaN</td>\n",
       "      <td>g</td>\n",
       "      <td>...</td>\n",
       "      <td>NaN</td>\n",
       "      <td>NaN</td>\n",
       "      <td>w</td>\n",
       "      <td>NaN</td>\n",
       "      <td>NaN</td>\n",
       "      <td>f</td>\n",
       "      <td>f</td>\n",
       "      <td>NaN</td>\n",
       "      <td>d</td>\n",
       "      <td>u</td>\n",
       "    </tr>\n",
       "    <tr>\n",
       "      <th>4</th>\n",
       "      <td>4</td>\n",
       "      <td>e</td>\n",
       "      <td>5.85</td>\n",
       "      <td>x</td>\n",
       "      <td>l</td>\n",
       "      <td>w</td>\n",
       "      <td>f</td>\n",
       "      <td>d</td>\n",
       "      <td>NaN</td>\n",
       "      <td>w</td>\n",
       "      <td>...</td>\n",
       "      <td>NaN</td>\n",
       "      <td>NaN</td>\n",
       "      <td>w</td>\n",
       "      <td>NaN</td>\n",
       "      <td>NaN</td>\n",
       "      <td>f</td>\n",
       "      <td>f</td>\n",
       "      <td>NaN</td>\n",
       "      <td>g</td>\n",
       "      <td>a</td>\n",
       "    </tr>\n",
       "    <tr>\n",
       "      <th>...</th>\n",
       "      <td>...</td>\n",
       "      <td>...</td>\n",
       "      <td>...</td>\n",
       "      <td>...</td>\n",
       "      <td>...</td>\n",
       "      <td>...</td>\n",
       "      <td>...</td>\n",
       "      <td>...</td>\n",
       "      <td>...</td>\n",
       "      <td>...</td>\n",
       "      <td>...</td>\n",
       "      <td>...</td>\n",
       "      <td>...</td>\n",
       "      <td>...</td>\n",
       "      <td>...</td>\n",
       "      <td>...</td>\n",
       "      <td>...</td>\n",
       "      <td>...</td>\n",
       "      <td>...</td>\n",
       "      <td>...</td>\n",
       "      <td>...</td>\n",
       "    </tr>\n",
       "    <tr>\n",
       "      <th>3116940</th>\n",
       "      <td>3116940</td>\n",
       "      <td>e</td>\n",
       "      <td>9.29</td>\n",
       "      <td>f</td>\n",
       "      <td>NaN</td>\n",
       "      <td>n</td>\n",
       "      <td>t</td>\n",
       "      <td>NaN</td>\n",
       "      <td>NaN</td>\n",
       "      <td>w</td>\n",
       "      <td>...</td>\n",
       "      <td>b</td>\n",
       "      <td>NaN</td>\n",
       "      <td>w</td>\n",
       "      <td>u</td>\n",
       "      <td>w</td>\n",
       "      <td>t</td>\n",
       "      <td>g</td>\n",
       "      <td>NaN</td>\n",
       "      <td>d</td>\n",
       "      <td>u</td>\n",
       "    </tr>\n",
       "    <tr>\n",
       "      <th>3116941</th>\n",
       "      <td>3116941</td>\n",
       "      <td>e</td>\n",
       "      <td>10.88</td>\n",
       "      <td>s</td>\n",
       "      <td>NaN</td>\n",
       "      <td>w</td>\n",
       "      <td>t</td>\n",
       "      <td>d</td>\n",
       "      <td>c</td>\n",
       "      <td>p</td>\n",
       "      <td>...</td>\n",
       "      <td>NaN</td>\n",
       "      <td>NaN</td>\n",
       "      <td>w</td>\n",
       "      <td>NaN</td>\n",
       "      <td>NaN</td>\n",
       "      <td>f</td>\n",
       "      <td>f</td>\n",
       "      <td>NaN</td>\n",
       "      <td>d</td>\n",
       "      <td>u</td>\n",
       "    </tr>\n",
       "    <tr>\n",
       "      <th>3116942</th>\n",
       "      <td>3116942</td>\n",
       "      <td>p</td>\n",
       "      <td>7.82</td>\n",
       "      <td>x</td>\n",
       "      <td>e</td>\n",
       "      <td>e</td>\n",
       "      <td>f</td>\n",
       "      <td>a</td>\n",
       "      <td>NaN</td>\n",
       "      <td>w</td>\n",
       "      <td>...</td>\n",
       "      <td>NaN</td>\n",
       "      <td>NaN</td>\n",
       "      <td>y</td>\n",
       "      <td>NaN</td>\n",
       "      <td>w</td>\n",
       "      <td>t</td>\n",
       "      <td>z</td>\n",
       "      <td>NaN</td>\n",
       "      <td>d</td>\n",
       "      <td>a</td>\n",
       "    </tr>\n",
       "    <tr>\n",
       "      <th>3116943</th>\n",
       "      <td>3116943</td>\n",
       "      <td>e</td>\n",
       "      <td>9.45</td>\n",
       "      <td>p</td>\n",
       "      <td>i</td>\n",
       "      <td>n</td>\n",
       "      <td>t</td>\n",
       "      <td>e</td>\n",
       "      <td>NaN</td>\n",
       "      <td>p</td>\n",
       "      <td>...</td>\n",
       "      <td>NaN</td>\n",
       "      <td>y</td>\n",
       "      <td>w</td>\n",
       "      <td>NaN</td>\n",
       "      <td>NaN</td>\n",
       "      <td>t</td>\n",
       "      <td>p</td>\n",
       "      <td>NaN</td>\n",
       "      <td>d</td>\n",
       "      <td>u</td>\n",
       "    </tr>\n",
       "    <tr>\n",
       "      <th>3116944</th>\n",
       "      <td>3116944</td>\n",
       "      <td>p</td>\n",
       "      <td>3.20</td>\n",
       "      <td>x</td>\n",
       "      <td>s</td>\n",
       "      <td>g</td>\n",
       "      <td>f</td>\n",
       "      <td>d</td>\n",
       "      <td>c</td>\n",
       "      <td>w</td>\n",
       "      <td>...</td>\n",
       "      <td>NaN</td>\n",
       "      <td>NaN</td>\n",
       "      <td>w</td>\n",
       "      <td>NaN</td>\n",
       "      <td>NaN</td>\n",
       "      <td>f</td>\n",
       "      <td>f</td>\n",
       "      <td>NaN</td>\n",
       "      <td>g</td>\n",
       "      <td>u</td>\n",
       "    </tr>\n",
       "  </tbody>\n",
       "</table>\n",
       "<p>3116945 rows × 22 columns</p>\n",
       "</div>"
      ],
      "text/plain": [
       "              id class  cap-diameter cap-shape cap-surface cap-color  \\\n",
       "0              0     e          8.80         f           s         u   \n",
       "1              1     p          4.51         x           h         o   \n",
       "2              2     e          6.94         f           s         b   \n",
       "3              3     e          3.88         f           y         g   \n",
       "4              4     e          5.85         x           l         w   \n",
       "...          ...   ...           ...       ...         ...       ...   \n",
       "3116940  3116940     e          9.29         f         NaN         n   \n",
       "3116941  3116941     e         10.88         s         NaN         w   \n",
       "3116942  3116942     p          7.82         x           e         e   \n",
       "3116943  3116943     e          9.45         p           i         n   \n",
       "3116944  3116944     p          3.20         x           s         g   \n",
       "\n",
       "        does-bruise-or-bleed gill-attachment gill-spacing gill-color  ...  \\\n",
       "0                          f               a            c          w  ...   \n",
       "1                          f               a            c          n  ...   \n",
       "2                          f               x            c          w  ...   \n",
       "3                          f               s          NaN          g  ...   \n",
       "4                          f               d          NaN          w  ...   \n",
       "...                      ...             ...          ...        ...  ...   \n",
       "3116940                    t             NaN          NaN          w  ...   \n",
       "3116941                    t               d            c          p  ...   \n",
       "3116942                    f               a          NaN          w  ...   \n",
       "3116943                    t               e          NaN          p  ...   \n",
       "3116944                    f               d            c          w  ...   \n",
       "\n",
       "         stem-root  stem-surface stem-color veil-type veil-color has-ring  \\\n",
       "0              NaN           NaN          w       NaN        NaN        f   \n",
       "1              NaN             y          o       NaN        NaN        t   \n",
       "2              NaN             s          n       NaN        NaN        f   \n",
       "3              NaN           NaN          w       NaN        NaN        f   \n",
       "4              NaN           NaN          w       NaN        NaN        f   \n",
       "...            ...           ...        ...       ...        ...      ...   \n",
       "3116940          b           NaN          w         u          w        t   \n",
       "3116941        NaN           NaN          w       NaN        NaN        f   \n",
       "3116942        NaN           NaN          y       NaN          w        t   \n",
       "3116943        NaN             y          w       NaN        NaN        t   \n",
       "3116944        NaN           NaN          w       NaN        NaN        f   \n",
       "\n",
       "        ring-type spore-print-color habitat season  \n",
       "0               f               NaN       d      a  \n",
       "1               z               NaN       d      w  \n",
       "2               f               NaN       l      w  \n",
       "3               f               NaN       d      u  \n",
       "4               f               NaN       g      a  \n",
       "...           ...               ...     ...    ...  \n",
       "3116940         g               NaN       d      u  \n",
       "3116941         f               NaN       d      u  \n",
       "3116942         z               NaN       d      a  \n",
       "3116943         p               NaN       d      u  \n",
       "3116944         f               NaN       g      u  \n",
       "\n",
       "[3116945 rows x 22 columns]"
      ]
     },
     "execution_count": 100,
     "metadata": {},
     "output_type": "execute_result"
    }
   ],
   "source": [
    "mushrooms"
   ]
  },
  {
   "cell_type": "code",
   "execution_count": 128,
   "id": "73cbe3f1",
   "metadata": {},
   "outputs": [],
   "source": [
    "mushrooms = mushrooms.fillna(-1)"
   ]
  },
  {
   "cell_type": "code",
   "execution_count": 129,
   "id": "e01a4880",
   "metadata": {},
   "outputs": [],
   "source": [
    "X_tree = pd.merge(X_tree, Y_tree, left_index=True, right_index=True)"
   ]
  },
  {
   "cell_type": "code",
   "execution_count": 132,
   "id": "449224e6",
   "metadata": {},
   "outputs": [],
   "source": [
    "def information_gain(df, feature, target):\n",
    "    # Calculate the entropy of the entire dataset\n",
    "    total_entropy = calculate_entropy(df[target])\n",
    "    \n",
    "    # Calculate the weighted entropy for each value of the feature\n",
    "    weighted_entropy = 0\n",
    "    for value in df[feature].unique():\n",
    "        subset = df[df[feature] == value]\n",
    "        subset_entropy = calculate_entropy(subset[target])\n",
    "        weighted_entropy += (len(subset) / len(df)) * subset_entropy\n",
    "    \n",
    "    # Calculate information gain\n",
    "    ig = total_entropy - weighted_entropy\n",
    "    return ig\n",
    "\n",
    "\n",
    "# Calculate information gain for each feature\n"
   ]
  },
  {
   "cell_type": "code",
   "execution_count": 121,
   "id": "d83686ab",
   "metadata": {},
   "outputs": [],
   "source": [
    "cc = []\n",
    "for i in mushrooms.columns:\n",
    "    if mushrooms[i].dtype==object:\n",
    "        cc.append(i)"
   ]
  },
  {
   "cell_type": "code",
   "execution_count": 122,
   "id": "da9e6291",
   "metadata": {},
   "outputs": [
    {
     "data": {
      "text/plain": [
       "['class',\n",
       " 'cap-shape',\n",
       " 'cap-surface',\n",
       " 'cap-color',\n",
       " 'does-bruise-or-bleed',\n",
       " 'gill-attachment',\n",
       " 'gill-spacing',\n",
       " 'gill-color',\n",
       " 'stem-root',\n",
       " 'stem-surface',\n",
       " 'stem-color',\n",
       " 'veil-type',\n",
       " 'veil-color',\n",
       " 'has-ring',\n",
       " 'ring-type',\n",
       " 'spore-print-color',\n",
       " 'habitat',\n",
       " 'season']"
      ]
     },
     "execution_count": 122,
     "metadata": {},
     "output_type": "execute_result"
    }
   ],
   "source": [
    "cc"
   ]
  },
  {
   "cell_type": "code",
   "execution_count": 118,
   "id": "d50dc437",
   "metadata": {},
   "outputs": [],
   "source": [
    "Y_tree = pd.DataFrame(Y_tree)"
   ]
  },
  {
   "cell_type": "code",
   "execution_count": 133,
   "id": "076d1a98",
   "metadata": {},
   "outputs": [
    {
     "name": "stdout",
     "output_type": "stream",
     "text": [
      "Information Gain for class: 0.4987\n",
      "Information Gain for cap-shape: 0.2742\n",
      "Information Gain for cap-surface: 0.5322\n",
      "Information Gain for cap-color: 0.3788\n",
      "Information Gain for does-bruise-or-bleed: 0.0225\n",
      "Information Gain for gill-attachment: 0.4573\n",
      "Information Gain for gill-spacing: 0.1409\n",
      "Information Gain for gill-color: 0.4506\n",
      "Information Gain for stem-root: 0.0517\n",
      "Information Gain for stem-surface: 0.2048\n",
      "Information Gain for stem-color: 0.2892\n",
      "Information Gain for veil-type: 0.0158\n",
      "Information Gain for veil-color: 0.0442\n",
      "Information Gain for has-ring: 0.0144\n",
      "Information Gain for ring-type: 0.1198\n",
      "Information Gain for spore-print-color: 0.0397\n",
      "Information Gain for habitat: 0.1385\n",
      "Information Gain for season: 0.1263\n"
     ]
    }
   ],
   "source": [
    "for feature in mushrooms[cc]:  # Exclude the targe'Target't column\n",
    "    ig = information_gain(mushrooms, feature,'class')\n",
    "    print(f'Information Gain for {feature}: {ig:.4f}')"
   ]
  },
  {
   "cell_type": "code",
   "execution_count": 136,
   "id": "11e5f701",
   "metadata": {},
   "outputs": [
    {
     "name": "stdout",
     "output_type": "stream",
     "text": [
      "Entropy and classes of the class: 0.9935794251725115\n",
      "Entropy and classes of the cap-shape: 2.195280666423383\n",
      "Entropy and classes of the cap-surface: 3.280912221684982\n",
      "Entropy and classes of the cap-color: 2.73017261091956\n",
      "Entropy and classes of the does-bruise-or-bleed: 0.6708084689663235\n",
      "Entropy and classes of the gill-attachment: 2.860786937516038\n",
      "Entropy and classes of the gill-spacing: 1.6171074926192182\n",
      "Entropy and classes of the gill-color: 2.973717952235012\n",
      "Entropy and classes of the stem-root: 0.7169413761033208\n",
      "Entropy and classes of the stem-surface: 1.86103260600183\n",
      "Entropy and classes of the stem-color: 2.3458576313734483\n",
      "Entropy and classes of the veil-type: 0.2912514747643015\n",
      "Entropy and classes of the veil-color: 0.6980451571309044\n",
      "Entropy and classes of the has-ring: 0.7958102778778051\n",
      "Entropy and classes of the ring-type: 1.305285847465254\n",
      "Entropy and classes of the spore-print-color: 0.6078402058822795\n",
      "Entropy and classes of the habitat: 1.4932597808002743\n",
      "Entropy and classes of the season: 1.5468365499719572\n"
     ]
    }
   ],
   "source": [
    "for i in mushrooms[cc]:\n",
    "# Calculate entropy of the column\n",
    "    entropy = calculate_entropy(mushrooms[i])\n",
    "    print(f\"Entropy and classes of the {i}: {entropy}\")"
   ]
  },
  {
   "cell_type": "code",
   "execution_count": null,
   "id": "ab9369fe",
   "metadata": {},
   "outputs": [],
   "source": [
    "mushrooms.shape"
   ]
  },
  {
   "cell_type": "code",
   "execution_count": 16,
   "id": "7000e119",
   "metadata": {},
   "outputs": [],
   "source": [
    "for i in mushrooms.columns:\n",
    "    if mushrooms[i].dtype == object:\n",
    "        mushrooms[i].astype('str')"
   ]
  },
  {
   "cell_type": "code",
   "execution_count": null,
   "id": "a32e96bb",
   "metadata": {},
   "outputs": [],
   "source": [
    "mushrooms.columns"
   ]
  },
  {
   "cell_type": "code",
   "execution_count": 18,
   "id": "11bd457c",
   "metadata": {},
   "outputs": [],
   "source": [
    "from sklearn.tree import DecisionTreeClassifier\n",
    "t = DecisionTreeClassifier(criterion='entropy', max_depth=5)"
   ]
  },
  {
   "cell_type": "code",
   "execution_count": 20,
   "id": "4c52992e",
   "metadata": {},
   "outputs": [],
   "source": [
    "Y_tree = mushrooms['class']\n",
    "X_tree = mushrooms.iloc[:,2:]"
   ]
  },
  {
   "cell_type": "code",
   "execution_count": 21,
   "id": "9916a980",
   "metadata": {},
   "outputs": [],
   "source": [
    "X_tree = X_tree.fillna(-1)"
   ]
  },
  {
   "cell_type": "code",
   "execution_count": 34,
   "id": "4581ada8",
   "metadata": {},
   "outputs": [],
   "source": [
    "from scipy.stats import entropy"
   ]
  },
  {
   "cell_type": "code",
   "execution_count": null,
   "id": "3f115ef2",
   "metadata": {},
   "outputs": [],
   "source": [
    "entropy(X_tree['cap-shape'])"
   ]
  },
  {
   "cell_type": "code",
   "execution_count": null,
   "id": "dec85bba",
   "metadata": {},
   "outputs": [],
   "source": [
    "entropy(Y_tree)"
   ]
  },
  {
   "cell_type": "code",
   "execution_count": null,
   "id": "38bdea4d",
   "metadata": {},
   "outputs": [],
   "source": [
    "Y_tree"
   ]
  },
  {
   "cell_type": "code",
   "execution_count": null,
   "id": "f30faf02",
   "metadata": {},
   "outputs": [],
   "source": [
    "X_tree.columns"
   ]
  },
  {
   "cell_type": "code",
   "execution_count": 23,
   "id": "05889642",
   "metadata": {},
   "outputs": [],
   "source": [
    "Y_tree = [1.0 if x == 'p' else 0.0 for x in Y_tree]"
   ]
  },
  {
   "cell_type": "code",
   "execution_count": null,
   "id": "a492dd45",
   "metadata": {},
   "outputs": [],
   "source": [
    "import category_encoders as ce\n",
    "\n",
    "# Initialize the LabelEncoder\n",
    "encoder = ce.TargetEncoder(handle_missing='return_nan')\n",
    "\n",
    "# List of columns to encode\n",
    "columns_to_encode = ['cap-shape', 'cap-surface', 'cap-color', 'does-bruise-or-bleed', \n",
    "                     'gill-attachment', 'gill-spacing', 'gill-color', 'stem-root', \n",
    "                     'stem-surface', 'stem-color', 'veil-type', 'veil-color', \n",
    "                     'has-ring', 'ring-type', 'spore-print-color', 'habitat', 'season']\n",
    "\n",
    "# Apply LabelEncoder to each column\n",
    "for column in columns_to_encode:\n",
    "    X_tree[column] = encoder.fit_transform(X_tree[column], Y_tree)\n",
    "\n",
    "print(X_tree.head())\n"
   ]
  },
  {
   "cell_type": "code",
   "execution_count": null,
   "id": "caa55aad",
   "metadata": {},
   "outputs": [],
   "source": [
    "X_tree.isna().sum()"
   ]
  },
  {
   "cell_type": "code",
   "execution_count": 26,
   "id": "83fb398a",
   "metadata": {},
   "outputs": [],
   "source": [
    "p = t.fit(X_tree,Y_tree)"
   ]
  },
  {
   "cell_type": "code",
   "execution_count": null,
   "id": "782b3f7f",
   "metadata": {},
   "outputs": [],
   "source": [
    "p"
   ]
  },
  {
   "cell_type": "code",
   "execution_count": null,
   "id": "0ac5adb9",
   "metadata": {},
   "outputs": [],
   "source": [
    "import matplotlib.pyplot as plt\n",
    "from sklearn.tree import plot_tree"
   ]
  },
  {
   "cell_type": "code",
   "execution_count": null,
   "id": "ed4d15b2",
   "metadata": {},
   "outputs": [],
   "source": [
    "plt.figure(figsize=(20, 10), dpi=100)  # Increase the figure size and DPI\n",
    "plot_tree(p, filled=True, rounded=True, fontsize=10)\n",
    "plt.show()"
   ]
  },
  {
   "cell_type": "code",
   "execution_count": null,
   "id": "6fee3314",
   "metadata": {},
   "outputs": [],
   "source": [
    "X_tree.info()"
   ]
  },
  {
   "cell_type": "code",
   "execution_count": 35,
   "id": "6ec1db96",
   "metadata": {},
   "outputs": [],
   "source": [
    "h = p.feature_importances_\n",
    "l = pd.DataFrame({\n",
    "    'Feature': X_tree.columns,\n",
    "    'Importance': h\n",
    "})"
   ]
  },
  {
   "cell_type": "code",
   "execution_count": null,
   "id": "39cd9a49",
   "metadata": {},
   "outputs": [],
   "source": [
    "l.sort_values(by = 'Importance')"
   ]
  },
  {
   "cell_type": "code",
   "execution_count": null,
   "id": "17f8f428",
   "metadata": {},
   "outputs": [],
   "source": [
    "import shap\n",
    "explainer = shap.TreeExplainer(t)\n",
    "shap_values = explainer.shap_values(X_tree)\n",
    "shap.summary_plot(shap_values, X_tree)"
   ]
  },
  {
   "cell_type": "code",
   "execution_count": null,
   "id": "e420c177",
   "metadata": {},
   "outputs": [],
   "source": [
    "X_tree"
   ]
  },
  {
   "cell_type": "code",
   "execution_count": 33,
   "id": "48f43e2f",
   "metadata": {},
   "outputs": [],
   "source": [
    "from sklearn.impute import KNNImputer\n",
    "imp = KNNImputer()"
   ]
  },
  {
   "cell_type": "code",
   "execution_count": null,
   "id": "d0fa696a",
   "metadata": {},
   "outputs": [],
   "source": [
    "X_tree = imp.fit_transform(X_tree)"
   ]
  },
  {
   "cell_type": "code",
   "execution_count": null,
   "id": "b626761f1ce23c90",
   "metadata": {
    "ExecuteTime": {
     "end_time": "2024-08-24T04:55:12.985141Z",
     "start_time": "2024-08-24T04:55:12.955855Z"
    }
   },
   "outputs": [],
   "source": [
    "mushrooms['id'].astype(int)"
   ]
  },
  {
   "cell_type": "code",
   "execution_count": 25,
   "id": "dcaba30043e38176",
   "metadata": {
    "ExecuteTime": {
     "end_time": "2024-08-24T04:55:15.678243Z",
     "start_time": "2024-08-24T04:55:15.662663Z"
    }
   },
   "outputs": [],
   "source": [
    "columns_float = []\n",
    "for i in mushrooms.columns:\n",
    "    if mushrooms[i].dtype != object:\n",
    "        columns_float.append(i)"
   ]
  },
  {
   "cell_type": "code",
   "execution_count": 27,
   "id": "b26af19cd98d4b44",
   "metadata": {
    "ExecuteTime": {
     "end_time": "2024-08-24T04:55:19.704054Z",
     "start_time": "2024-08-24T04:55:19.672616Z"
    }
   },
   "outputs": [],
   "source": [
    "columns_object = []\n",
    "for i in mushrooms.columns:\n",
    "    if mushrooms[i].dtype == object:\n",
    "        columns_object.append(i)"
   ]
  },
  {
   "cell_type": "code",
   "execution_count": null,
   "id": "63b72bd86b5ea186",
   "metadata": {
    "ExecuteTime": {
     "end_time": "2024-08-24T04:55:22.135608Z",
     "start_time": "2024-08-24T04:55:22.120357Z"
    }
   },
   "outputs": [],
   "source": [
    "columns_object"
   ]
  },
  {
   "cell_type": "code",
   "execution_count": null,
   "id": "d5d9f68deb7098e4",
   "metadata": {
    "ExecuteTime": {
     "end_time": "2024-08-24T04:55:26.987113Z",
     "start_time": "2024-08-24T04:55:24.051837Z"
    }
   },
   "outputs": [],
   "source": [
    "mushrooms"
   ]
  },
  {
   "cell_type": "code",
   "execution_count": null,
   "id": "61475702e64b9c49",
   "metadata": {
    "ExecuteTime": {
     "end_time": "2024-08-24T04:55:37.367Z",
     "start_time": "2024-08-24T04:55:35.223827Z"
    }
   },
   "outputs": [],
   "source": [
    "mushrooms[mushrooms['gill-spacing'].notna()]"
   ]
  },
  {
   "cell_type": "code",
   "execution_count": null,
   "id": "1c84d5872f920190",
   "metadata": {
    "ExecuteTime": {
     "end_time": "2024-08-24T04:56:01.906695Z",
     "start_time": "2024-08-24T04:55:59.976581Z"
    }
   },
   "outputs": [],
   "source": [
    "mushrooms.isna().sum()"
   ]
  },
  {
   "cell_type": "code",
   "execution_count": null,
   "id": "30c00f087554bfae",
   "metadata": {
    "ExecuteTime": {
     "end_time": "2024-08-24T04:56:06.869629Z",
     "start_time": "2024-08-24T04:56:03.993553Z"
    }
   },
   "outputs": [],
   "source": [
    "mushrooms"
   ]
  },
  {
   "cell_type": "code",
   "execution_count": null,
   "id": "1e07923d30c88820",
   "metadata": {
    "ExecuteTime": {
     "end_time": "2024-08-24T04:56:06.979512Z",
     "start_time": "2024-08-24T04:56:06.947770Z"
    }
   },
   "outputs": [],
   "source": [
    "mushrooms['cap-diameter'].fillna(0, inplace = True)"
   ]
  },
  {
   "cell_type": "code",
   "execution_count": 34,
   "id": "2d96a9388b5e5f73",
   "metadata": {
    "ExecuteTime": {
     "end_time": "2024-08-24T04:56:19.504019Z",
     "start_time": "2024-08-24T04:56:17.623835Z"
    }
   },
   "outputs": [],
   "source": [
    "mushrooms.fillna('Missing',inplace = True)"
   ]
  },
  {
   "cell_type": "code",
   "execution_count": 35,
   "id": "8a2cbafa2fe6ca3",
   "metadata": {
    "ExecuteTime": {
     "end_time": "2024-08-19T17:43:14.168674Z",
     "start_time": "2024-08-19T17:43:13.929475Z"
    }
   },
   "outputs": [],
   "source": [
    "poisnous = mushrooms[mushrooms['class']=='p']"
   ]
  },
  {
   "cell_type": "code",
   "execution_count": null,
   "id": "80be44cc4183e78d",
   "metadata": {
    "ExecuteTime": {
     "end_time": "2024-08-19T17:43:15.371546Z",
     "start_time": "2024-08-19T17:43:14.185474Z"
    }
   },
   "outputs": [],
   "source": [
    "poisnous"
   ]
  },
  {
   "cell_type": "code",
   "execution_count": null,
   "id": "b4d817bc99ab96a0",
   "metadata": {
    "ExecuteTime": {
     "end_time": "2024-08-19T17:43:15.440351Z",
     "start_time": "2024-08-19T17:43:15.436520Z"
    }
   },
   "outputs": [],
   "source": [
    "poisnous['cap-diameter'].mean()"
   ]
  },
  {
   "cell_type": "code",
   "execution_count": null,
   "id": "bd9858463f1ab06c",
   "metadata": {
    "ExecuteTime": {
     "end_time": "2024-08-19T17:43:19.592709Z",
     "start_time": "2024-08-19T17:43:19.574268Z"
    }
   },
   "outputs": [],
   "source": [
    "poisnous['cap-diameter'].median()"
   ]
  },
  {
   "cell_type": "code",
   "execution_count": 39,
   "id": "befb4b41bb5d598c",
   "metadata": {
    "ExecuteTime": {
     "end_time": "2024-08-19T17:43:19.905779Z",
     "start_time": "2024-08-19T17:43:19.631644Z"
    }
   },
   "outputs": [],
   "source": [
    "edible = mushrooms[mushrooms['class']=='e']"
   ]
  },
  {
   "cell_type": "code",
   "execution_count": null,
   "id": "8f074e6bc3ad51e5",
   "metadata": {
    "ExecuteTime": {
     "end_time": "2024-08-19T17:43:19.931241Z",
     "start_time": "2024-08-19T17:43:19.928381Z"
    }
   },
   "outputs": [],
   "source": [
    "edible['cap-diameter'].mean()"
   ]
  },
  {
   "cell_type": "code",
   "execution_count": null,
   "id": "a164de6e307a77f2",
   "metadata": {
    "ExecuteTime": {
     "end_time": "2024-08-19T17:43:20.011757Z",
     "start_time": "2024-08-19T17:43:19.993208Z"
    }
   },
   "outputs": [],
   "source": [
    "edible['cap-diameter'].median()"
   ]
  },
  {
   "cell_type": "code",
   "execution_count": null,
   "id": "4581d37ebff4b83c",
   "metadata": {
    "ExecuteTime": {
     "end_time": "2024-08-24T04:56:27.164944Z",
     "start_time": "2024-08-24T04:56:23.881653Z"
    }
   },
   "outputs": [],
   "source": [
    "mushrooms"
   ]
  },
  {
   "cell_type": "code",
   "execution_count": 44,
   "id": "b0067eafab3939f1",
   "metadata": {
    "ExecuteTime": {
     "end_time": "2024-08-19T17:43:27.064222Z",
     "start_time": "2024-08-19T17:43:27.061905Z"
    }
   },
   "outputs": [],
   "source": [
    "import plotly.offline as pyo\n",
    "import plotly.graph_objs as go"
   ]
  },
  {
   "cell_type": "code",
   "execution_count": 45,
   "id": "93f0a047c7576768",
   "metadata": {
    "ExecuteTime": {
     "end_time": "2024-08-19T17:44:12.044783Z",
     "start_time": "2024-08-19T17:43:27.092397Z"
    }
   },
   "outputs": [],
   "source": [
    "for i in mushrooms.columns:\n",
    "    if mushrooms[i].dtype == object:\n",
    "        layout = go.Layout(title = f'Poisnous/edible-{i}',xaxis = dict(title=f'feature name {i}'),\n",
    "                           yaxis = dict(title='Count'),hovermode = 'closest'\n",
    "                           )\n",
    "        trace0 = go.Bar(x=edible[i],y=edible[i].value_counts(), name = 'edible', marker = {'color':'blue'})\n",
    "        trace1 = go.Bar(x=poisnous[i],y=poisnous[i].value_counts(), name = 'poisnous', marker = {'color':'red'})\n",
    "        data = [trace0, trace1]\n",
    "        fig = go.Figure(data = data, layout = layout)\n",
    "        pyo.plot(fig)"
   ]
  },
  {
   "cell_type": "code",
   "execution_count": null,
   "id": "3a6a4cedb5f380a4",
   "metadata": {
    "ExecuteTime": {
     "end_time": "2024-08-19T17:44:14.273207Z",
     "start_time": "2024-08-19T17:44:12.081661Z"
    }
   },
   "outputs": [],
   "source": [
    "mushrooms"
   ]
  },
  {
   "cell_type": "code",
   "execution_count": 47,
   "id": "48b80407f308eaed",
   "metadata": {
    "ExecuteTime": {
     "end_time": "2024-08-19T17:44:18.502125Z",
     "start_time": "2024-08-19T17:44:18.500488Z"
    }
   },
   "outputs": [],
   "source": [
    "#mushrooms['cap-diameter'] = mushrooms['cap-diameter'].fillna(mushrooms['cap-diameter'].mean())"
   ]
  },
  {
   "cell_type": "code",
   "execution_count": null,
   "id": "92a6e0c917139867",
   "metadata": {
    "ExecuteTime": {
     "end_time": "2024-08-19T17:44:18.580676Z",
     "start_time": "2024-08-19T17:44:18.577581Z"
    }
   },
   "outputs": [],
   "source": [
    "mushrooms.dtypes"
   ]
  },
  {
   "cell_type": "code",
   "execution_count": null,
   "id": "d802cdca9e27c6e0",
   "metadata": {
    "ExecuteTime": {
     "end_time": "2024-08-19T17:44:20.769577Z",
     "start_time": "2024-08-19T17:44:18.629648Z"
    }
   },
   "outputs": [],
   "source": [
    "mushrooms"
   ]
  },
  {
   "cell_type": "code",
   "execution_count": 50,
   "id": "a6cd01650c39da4",
   "metadata": {
    "ExecuteTime": {
     "end_time": "2024-08-19T17:45:51.941547Z",
     "start_time": "2024-08-19T17:44:24.901434Z"
    }
   },
   "outputs": [],
   "source": [
    "for i in mushrooms.columns:\n",
    "    if mushrooms[i].dtype == object:\n",
    "        layout = go.Layout(title = f'Poisnous/edible-{i}',xaxis = dict(title=f'feature name {i}'),\n",
    "                           yaxis = dict(title='Count'),hovermode = 'closest'\n",
    "                           )\n",
    "        trace0 = go.Bar(x=mushrooms[i],y=mushrooms[i][mushrooms['class']=='e'].value_counts(), name = 'edible', marker = {'color':'blue'})\n",
    "        trace1 = go.Bar(x=mushrooms[i],y=mushrooms[i][mushrooms['class']=='p'].value_counts(), name = 'poisnous', marker = {'color':'red'})\n",
    "\n",
    "        data = [trace0,trace1]\n",
    "        fig = go.Figure(data = data, layout = layout)\n",
    "        pyo.plot(fig)"
   ]
  },
  {
   "cell_type": "code",
   "execution_count": null,
   "id": "3d2e841d",
   "metadata": {},
   "outputs": [],
   "source": [
    "mushrooms.columns"
   ]
  },
  {
   "cell_type": "code",
   "execution_count": null,
   "id": "4d08281300258a6d",
   "metadata": {
    "ExecuteTime": {
     "end_time": "2024-08-19T17:45:58.021115Z",
     "start_time": "2024-08-19T17:45:56.195157Z"
    }
   },
   "outputs": [],
   "source": [
    "mushrooms"
   ]
  },
  {
   "cell_type": "code",
   "execution_count": null,
   "id": "8fc7525195061682",
   "metadata": {
    "ExecuteTime": {
     "end_time": "2024-08-19T18:00:07.146768Z",
     "start_time": "2024-08-19T18:00:05.231013Z"
    }
   },
   "outputs": [],
   "source": [
    "mushrooms"
   ]
  },
  {
   "cell_type": "code",
   "execution_count": 53,
   "id": "23f1cf8a",
   "metadata": {},
   "outputs": [],
   "source": [
    "from sklearn.pipeline import make_pipeline"
   ]
  },
  {
   "cell_type": "code",
   "execution_count": 54,
   "id": "b6015ea3",
   "metadata": {},
   "outputs": [],
   "source": [
    "from sklearn.preprocessing import TargetEncoder"
   ]
  },
  {
   "cell_type": "code",
   "execution_count": 55,
   "id": "a421fc64183a82a9",
   "metadata": {
    "ExecuteTime": {
     "end_time": "2024-08-19T18:23:40.839968Z",
     "start_time": "2024-08-19T18:23:40.177172Z"
    }
   },
   "outputs": [],
   "source": [
    "Y = mushrooms['class'].apply(lambda x: 1 if x=='p' else 0)\n",
    "X = mushrooms.iloc[:,2:]\n",
    "   "
   ]
  },
  {
   "cell_type": "code",
   "execution_count": null,
   "id": "94acd825",
   "metadata": {},
   "outputs": [],
   "source": [
    "X"
   ]
  },
  {
   "cell_type": "code",
   "execution_count": 56,
   "id": "251c5f5fae915ed1",
   "metadata": {
    "ExecuteTime": {
     "end_time": "2024-08-19T18:24:05.845667Z",
     "start_time": "2024-08-19T18:24:05.843674Z"
    }
   },
   "outputs": [],
   "source": [
    "from sklearn.preprocessing import TargetEncoder\n",
    "from sklearn.model_selection import ShuffleSplit\n",
    "from sklearn.model_selection import cross_val_score\n",
    "from lightgbm import LGBMClassifier\n",
    "\n",
    "mc_cv = ShuffleSplit(n_splits=10, test_size=0.2, random_state=42)\n",
    "params = {\n",
    "    'objective': 'binary',\n",
    "    'metric': 'auc',\n",
    "    'boosting_type': 'gbdt',  # Gradient Boosting Decision Tree\n",
    "    'num_leaves': 31,         # Number of leaves in one tree\n",
    "    'learning_rate': 0.05,\n",
    "      # Randomly select a fraction of features to build each tree\n",
    "}"
   ]
  },
  {
   "cell_type": "code",
   "execution_count": null,
   "id": "d95e952f",
   "metadata": {},
   "outputs": [],
   "source": []
  },
  {
   "cell_type": "code",
   "execution_count": null,
   "id": "9f4aa22ab545de2",
   "metadata": {
    "ExecuteTime": {
     "end_time": "2024-08-19T18:24:08.570895Z",
     "start_time": "2024-08-19T18:24:08.569364Z"
    }
   },
   "outputs": [],
   "source": [
    "pipeline = make_pipeline(TargetEncoder(smooth = 'auto'), LGBMClassifier(**params))\n",
    "scores = cross_val_score(pipeline, X, Y, cv=mc_cv)"
   ]
  },
  {
   "cell_type": "code",
   "execution_count": null,
   "id": "75f5cdfe",
   "metadata": {},
   "outputs": [],
   "source": [
    "scores"
   ]
  }
 ],
 "metadata": {
  "kernelspec": {
   "display_name": "my_env",
   "language": "python",
   "name": "python3"
  },
  "language_info": {
   "codemirror_mode": {
    "name": "ipython",
    "version": 3
   },
   "file_extension": ".py",
   "mimetype": "text/x-python",
   "name": "python",
   "nbconvert_exporter": "python",
   "pygments_lexer": "ipython3",
   "version": "3.8.20"
  }
 },
 "nbformat": 4,
 "nbformat_minor": 5
}
