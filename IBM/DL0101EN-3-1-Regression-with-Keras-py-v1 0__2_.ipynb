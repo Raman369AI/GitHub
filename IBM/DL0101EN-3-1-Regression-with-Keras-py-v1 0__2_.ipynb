{
 "cells": [
  {
   "cell_type": "markdown",
   "metadata": {},
   "source": [
    "<a href=\"https://cognitiveclass.ai\"><img src=\"https://cf-courses-data.s3.us.cloud-object-storage.appdomain.cloud/IBMDeveloperSkillsNetwork-DL0101EN-SkillsNetwork/images/IDSN-logo.png\" width=\"400\"> </a>\n",
    "\n",
    "# Regression Models with Keras\n",
    "\n",
    "Estimated time needed: **45** mins\n"
   ]
  },
  {
   "cell_type": "markdown",
   "metadata": {},
   "source": [
    "## Introduction\n"
   ]
  },
  {
   "cell_type": "markdown",
   "metadata": {},
   "source": [
    "As we discussed in the videos, despite the popularity of more powerful libraries such as PyToch and TensorFlow, they are not easy to use and have a steep learning curve. So, for people who are just starting to learn deep learning, there is no better library to use other than the Keras library. \n",
    "\n",
    "Keras is a high-level API for building deep learning models. It has gained favor for its ease of use and syntactic simplicity facilitating fast development. As you will see in this lab and the other labs in this course, building a very complex deep learning network can be achieved with Keras with only few lines of code. You will appreciate Keras even more, once you learn how to build deep models using PyTorch and TensorFlow in the other courses.\n",
    "\n",
    "So, in this lab, you will learn how to use the Keras library to build a regression model.\n"
   ]
  },
  {
   "cell_type": "markdown",
   "metadata": {},
   "source": [
    "## Objectives for this Notebook    \n",
    "* How to use the Keras library to build a regression model\n",
    "* Download and clean the data set\n",
    "* Build a neural network\n",
    "* Train and test the network     \n",
    "\n"
   ]
  },
  {
   "cell_type": "markdown",
   "metadata": {},
   "source": [
    "## Table of Contents\n",
    "\n",
    "<div class=\"alert alert-block alert-info\" style=\"margin-top: 20px\">\n",
    "\n",
    "<font size = 3>\n",
    "    \n",
    "1. <a href=\"#item31\">Download and Clean the Data Set</a>  \n",
    "2. <a href=\"#item32\">Import Keras Packages</a>\n",
    "3. <a href=\"#item33\">Build a Neural Network</a>\n",
    "4. <a href=\"#item34\">Train and Test the Network</a>  \n",
    "\n",
    "</font>\n",
    "</div>\n"
   ]
  },
  {
   "cell_type": "markdown",
   "metadata": {},
   "source": [
    "<a id=\"item31\"></a>\n"
   ]
  },
  {
   "cell_type": "markdown",
   "metadata": {},
   "source": [
    "## Download and Clean the  Data Set\n"
   ]
  },
  {
   "cell_type": "markdown",
   "metadata": {},
   "source": [
    "Let's start by importing the <em>pandas</em> and the Numpy libraries.\n"
   ]
  },
  {
   "cell_type": "code",
   "execution_count": 3,
   "metadata": {},
   "outputs": [
    {
     "name": "stdout",
     "output_type": "stream",
     "text": [
      "Collecting numpy==2.0.2\n",
      "  Downloading numpy-2.0.2-cp311-cp311-manylinux_2_17_x86_64.manylinux2014_x86_64.whl.metadata (60 kB)\n",
      "\u001b[2K     \u001b[90m━━━━━━━━━━━━━━━━━━━━━━━━━━━━━━━━━━━━━━━━\u001b[0m \u001b[32m60.9/60.9 kB\u001b[0m \u001b[31m6.2 MB/s\u001b[0m eta \u001b[36m0:00:00\u001b[0m\n",
      "\u001b[?25hDownloading numpy-2.0.2-cp311-cp311-manylinux_2_17_x86_64.manylinux2014_x86_64.whl (19.5 MB)\n",
      "\u001b[2K   \u001b[90m━━━━━━━━━━━━━━━━━━━━━━━━━━━━━━━━━━━━━━━━\u001b[0m \u001b[32m19.5/19.5 MB\u001b[0m \u001b[31m68.9 MB/s\u001b[0m eta \u001b[36m0:00:00\u001b[0m:00:01\u001b[0m00:01\u001b[0m\n",
      "\u001b[?25hInstalling collected packages: numpy\n",
      "Successfully installed numpy-2.0.2\n",
      "Collecting pandas==2.2.2\n",
      "  Downloading pandas-2.2.2-cp311-cp311-manylinux_2_17_x86_64.manylinux2014_x86_64.whl.metadata (19 kB)\n",
      "Requirement already satisfied: numpy>=1.23.2 in /opt/conda/lib/python3.11/site-packages (from pandas==2.2.2) (2.0.2)\n",
      "Requirement already satisfied: python-dateutil>=2.8.2 in /opt/conda/lib/python3.11/site-packages (from pandas==2.2.2) (2.9.0)\n",
      "Requirement already satisfied: pytz>=2020.1 in /opt/conda/lib/python3.11/site-packages (from pandas==2.2.2) (2024.1)\n",
      "Collecting tzdata>=2022.7 (from pandas==2.2.2)\n",
      "  Downloading tzdata-2024.2-py2.py3-none-any.whl.metadata (1.4 kB)\n",
      "Requirement already satisfied: six>=1.5 in /opt/conda/lib/python3.11/site-packages (from python-dateutil>=2.8.2->pandas==2.2.2) (1.16.0)\n",
      "Downloading pandas-2.2.2-cp311-cp311-manylinux_2_17_x86_64.manylinux2014_x86_64.whl (13.0 MB)\n",
      "\u001b[2K   \u001b[90m━━━━━━━━━━━━━━━━━━━━━━━━━━━━━━━━━━━━━━━━\u001b[0m \u001b[32m13.0/13.0 MB\u001b[0m \u001b[31m94.1 MB/s\u001b[0m eta \u001b[36m0:00:00\u001b[0m:00:01\u001b[0m00:01\u001b[0m\n",
      "\u001b[?25hDownloading tzdata-2024.2-py2.py3-none-any.whl (346 kB)\n",
      "\u001b[2K   \u001b[90m━━━━━━━━━━━━━━━━━━━━━━━━━━━━━━━━━━━━━━━━\u001b[0m \u001b[32m346.6/346.6 kB\u001b[0m \u001b[31m27.7 MB/s\u001b[0m eta \u001b[36m0:00:00\u001b[0m\n",
      "\u001b[?25hInstalling collected packages: tzdata, pandas\n",
      "Successfully installed pandas-2.2.2 tzdata-2024.2\n",
      "Collecting tensorflow_cpu==2.18.0\n",
      "  Downloading tensorflow_cpu-2.18.0-cp311-cp311-manylinux_2_17_x86_64.manylinux2014_x86_64.whl.metadata (4.1 kB)\n",
      "Collecting absl-py>=1.0.0 (from tensorflow_cpu==2.18.0)\n",
      "  Downloading absl_py-2.1.0-py3-none-any.whl.metadata (2.3 kB)\n",
      "Collecting astunparse>=1.6.0 (from tensorflow_cpu==2.18.0)\n",
      "  Downloading astunparse-1.6.3-py2.py3-none-any.whl.metadata (4.4 kB)\n",
      "Collecting flatbuffers>=24.3.25 (from tensorflow_cpu==2.18.0)\n",
      "  Downloading flatbuffers-24.3.25-py2.py3-none-any.whl.metadata (850 bytes)\n",
      "Collecting gast!=0.5.0,!=0.5.1,!=0.5.2,>=0.2.1 (from tensorflow_cpu==2.18.0)\n",
      "  Downloading gast-0.6.0-py3-none-any.whl.metadata (1.3 kB)\n",
      "Collecting google-pasta>=0.1.1 (from tensorflow_cpu==2.18.0)\n",
      "  Downloading google_pasta-0.2.0-py3-none-any.whl.metadata (814 bytes)\n",
      "Collecting libclang>=13.0.0 (from tensorflow_cpu==2.18.0)\n",
      "  Downloading libclang-18.1.1-py2.py3-none-manylinux2010_x86_64.whl.metadata (5.2 kB)\n",
      "Collecting opt-einsum>=2.3.2 (from tensorflow_cpu==2.18.0)\n",
      "  Downloading opt_einsum-3.4.0-py3-none-any.whl.metadata (6.3 kB)\n",
      "Requirement already satisfied: packaging in /opt/conda/lib/python3.11/site-packages (from tensorflow_cpu==2.18.0) (24.0)\n",
      "Collecting protobuf!=4.21.0,!=4.21.1,!=4.21.2,!=4.21.3,!=4.21.4,!=4.21.5,<6.0.0dev,>=3.20.3 (from tensorflow_cpu==2.18.0)\n",
      "  Downloading protobuf-5.29.2-cp38-abi3-manylinux2014_x86_64.whl.metadata (592 bytes)\n",
      "Requirement already satisfied: requests<3,>=2.21.0 in /opt/conda/lib/python3.11/site-packages (from tensorflow_cpu==2.18.0) (2.31.0)\n",
      "Requirement already satisfied: setuptools in /opt/conda/lib/python3.11/site-packages (from tensorflow_cpu==2.18.0) (69.5.1)\n",
      "Requirement already satisfied: six>=1.12.0 in /opt/conda/lib/python3.11/site-packages (from tensorflow_cpu==2.18.0) (1.16.0)\n",
      "Collecting termcolor>=1.1.0 (from tensorflow_cpu==2.18.0)\n",
      "  Downloading termcolor-2.5.0-py3-none-any.whl.metadata (6.1 kB)\n",
      "Requirement already satisfied: typing-extensions>=3.6.6 in /opt/conda/lib/python3.11/site-packages (from tensorflow_cpu==2.18.0) (4.12.2)\n",
      "Collecting wrapt>=1.11.0 (from tensorflow_cpu==2.18.0)\n",
      "  Downloading wrapt-1.17.0-cp311-cp311-manylinux_2_5_x86_64.manylinux1_x86_64.manylinux_2_17_x86_64.manylinux2014_x86_64.whl.metadata (6.4 kB)\n",
      "Collecting grpcio<2.0,>=1.24.3 (from tensorflow_cpu==2.18.0)\n",
      "  Downloading grpcio-1.68.1-cp311-cp311-manylinux_2_17_x86_64.manylinux2014_x86_64.whl.metadata (3.9 kB)\n",
      "Collecting tensorboard<2.19,>=2.18 (from tensorflow_cpu==2.18.0)\n",
      "  Downloading tensorboard-2.18.0-py3-none-any.whl.metadata (1.6 kB)\n",
      "Collecting keras>=3.5.0 (from tensorflow_cpu==2.18.0)\n",
      "  Downloading keras-3.7.0-py3-none-any.whl.metadata (5.8 kB)\n",
      "Requirement already satisfied: numpy<2.1.0,>=1.26.0 in /opt/conda/lib/python3.11/site-packages (from tensorflow_cpu==2.18.0) (2.0.2)\n",
      "Collecting h5py>=3.11.0 (from tensorflow_cpu==2.18.0)\n",
      "  Downloading h5py-3.12.1-cp311-cp311-manylinux_2_17_x86_64.manylinux2014_x86_64.whl.metadata (2.5 kB)\n",
      "Collecting ml-dtypes<0.5.0,>=0.4.0 (from tensorflow_cpu==2.18.0)\n",
      "  Downloading ml_dtypes-0.4.1-cp311-cp311-manylinux_2_17_x86_64.manylinux2014_x86_64.whl.metadata (20 kB)\n",
      "Collecting tensorflow-io-gcs-filesystem>=0.23.1 (from tensorflow_cpu==2.18.0)\n",
      "  Downloading tensorflow_io_gcs_filesystem-0.37.1-cp311-cp311-manylinux_2_17_x86_64.manylinux2014_x86_64.whl.metadata (14 kB)\n",
      "Requirement already satisfied: wheel<1.0,>=0.23.0 in /opt/conda/lib/python3.11/site-packages (from astunparse>=1.6.0->tensorflow_cpu==2.18.0) (0.43.0)\n",
      "Collecting rich (from keras>=3.5.0->tensorflow_cpu==2.18.0)\n",
      "  Downloading rich-13.9.4-py3-none-any.whl.metadata (18 kB)\n",
      "Collecting namex (from keras>=3.5.0->tensorflow_cpu==2.18.0)\n",
      "  Downloading namex-0.0.8-py3-none-any.whl.metadata (246 bytes)\n",
      "Collecting optree (from keras>=3.5.0->tensorflow_cpu==2.18.0)\n",
      "  Downloading optree-0.13.1-cp311-cp311-manylinux_2_17_x86_64.manylinux2014_x86_64.whl.metadata (47 kB)\n",
      "\u001b[2K     \u001b[90m━━━━━━━━━━━━━━━━━━━━━━━━━━━━━━━━━━━━━━━━\u001b[0m \u001b[32m47.8/47.8 kB\u001b[0m \u001b[31m4.7 MB/s\u001b[0m eta \u001b[36m0:00:00\u001b[0m\n",
      "\u001b[?25hRequirement already satisfied: charset-normalizer<4,>=2 in /opt/conda/lib/python3.11/site-packages (from requests<3,>=2.21.0->tensorflow_cpu==2.18.0) (3.3.2)\n",
      "Requirement already satisfied: idna<4,>=2.5 in /opt/conda/lib/python3.11/site-packages (from requests<3,>=2.21.0->tensorflow_cpu==2.18.0) (3.7)\n",
      "Requirement already satisfied: urllib3<3,>=1.21.1 in /opt/conda/lib/python3.11/site-packages (from requests<3,>=2.21.0->tensorflow_cpu==2.18.0) (2.2.1)\n",
      "Requirement already satisfied: certifi>=2017.4.17 in /opt/conda/lib/python3.11/site-packages (from requests<3,>=2.21.0->tensorflow_cpu==2.18.0) (2024.8.30)\n",
      "Collecting markdown>=2.6.8 (from tensorboard<2.19,>=2.18->tensorflow_cpu==2.18.0)\n",
      "  Downloading Markdown-3.7-py3-none-any.whl.metadata (7.0 kB)\n",
      "Collecting tensorboard-data-server<0.8.0,>=0.7.0 (from tensorboard<2.19,>=2.18->tensorflow_cpu==2.18.0)\n",
      "  Downloading tensorboard_data_server-0.7.2-py3-none-manylinux_2_31_x86_64.whl.metadata (1.1 kB)\n",
      "Collecting werkzeug>=1.0.1 (from tensorboard<2.19,>=2.18->tensorflow_cpu==2.18.0)\n",
      "  Downloading werkzeug-3.1.3-py3-none-any.whl.metadata (3.7 kB)\n",
      "Requirement already satisfied: MarkupSafe>=2.1.1 in /opt/conda/lib/python3.11/site-packages (from werkzeug>=1.0.1->tensorboard<2.19,>=2.18->tensorflow_cpu==2.18.0) (2.1.5)\n",
      "Collecting markdown-it-py>=2.2.0 (from rich->keras>=3.5.0->tensorflow_cpu==2.18.0)\n",
      "  Downloading markdown_it_py-3.0.0-py3-none-any.whl.metadata (6.9 kB)\n",
      "Requirement already satisfied: pygments<3.0.0,>=2.13.0 in /opt/conda/lib/python3.11/site-packages (from rich->keras>=3.5.0->tensorflow_cpu==2.18.0) (2.18.0)\n",
      "Collecting mdurl~=0.1 (from markdown-it-py>=2.2.0->rich->keras>=3.5.0->tensorflow_cpu==2.18.0)\n",
      "  Downloading mdurl-0.1.2-py3-none-any.whl.metadata (1.6 kB)\n",
      "Downloading tensorflow_cpu-2.18.0-cp311-cp311-manylinux_2_17_x86_64.manylinux2014_x86_64.whl (230.2 MB)\n",
      "\u001b[2K   \u001b[90m━━━━━━━━━━━━━━━━━━━━━━━━━━━━━━━━━━━━━━━━\u001b[0m \u001b[32m230.2/230.2 MB\u001b[0m \u001b[31m2.6 MB/s\u001b[0m eta \u001b[36m0:00:00\u001b[0m:00:01\u001b[0m00:01\u001b[0m\n",
      "\u001b[?25hDownloading absl_py-2.1.0-py3-none-any.whl (133 kB)\n",
      "\u001b[2K   \u001b[90m━━━━━━━━━━━━━━━━━━━━━━━━━━━━━━━━━━━━━━━━\u001b[0m \u001b[32m133.7/133.7 kB\u001b[0m \u001b[31m18.1 MB/s\u001b[0m eta \u001b[36m0:00:00\u001b[0m\n",
      "\u001b[?25hDownloading astunparse-1.6.3-py2.py3-none-any.whl (12 kB)\n",
      "Downloading flatbuffers-24.3.25-py2.py3-none-any.whl (26 kB)\n",
      "Downloading gast-0.6.0-py3-none-any.whl (21 kB)\n",
      "Downloading google_pasta-0.2.0-py3-none-any.whl (57 kB)\n",
      "\u001b[2K   \u001b[90m━━━━━━━━━━━━━━━━━━━━━━━━━━━━━━━━━━━━━━━━\u001b[0m \u001b[32m57.5/57.5 kB\u001b[0m \u001b[31m7.8 MB/s\u001b[0m eta \u001b[36m0:00:00\u001b[0m\n",
      "\u001b[?25hDownloading grpcio-1.68.1-cp311-cp311-manylinux_2_17_x86_64.manylinux2014_x86_64.whl (5.9 MB)\n",
      "\u001b[2K   \u001b[90m━━━━━━━━━━━━━━━━━━━━━━━━━━━━━━━━━━━━━━━━\u001b[0m \u001b[32m5.9/5.9 MB\u001b[0m \u001b[31m73.6 MB/s\u001b[0m eta \u001b[36m0:00:00\u001b[0m:00:01\u001b[0m\n",
      "\u001b[?25hDownloading h5py-3.12.1-cp311-cp311-manylinux_2_17_x86_64.manylinux2014_x86_64.whl (5.5 MB)\n",
      "\u001b[2K   \u001b[90m━━━━━━━━━━━━━━━━━━━━━━━━━━━━━━━━━━━━━━━━\u001b[0m \u001b[32m5.5/5.5 MB\u001b[0m \u001b[31m59.8 MB/s\u001b[0m eta \u001b[36m0:00:00\u001b[0m:00:01\u001b[0m\n",
      "\u001b[?25hDownloading keras-3.7.0-py3-none-any.whl (1.2 MB)\n",
      "\u001b[2K   \u001b[90m━━━━━━━━━━━━━━━━━━━━━━━━━━━━━━━━━━━━━━━━\u001b[0m \u001b[32m1.2/1.2 MB\u001b[0m \u001b[31m66.4 MB/s\u001b[0m eta \u001b[36m0:00:00\u001b[0m\n",
      "\u001b[?25hDownloading libclang-18.1.1-py2.py3-none-manylinux2010_x86_64.whl (24.5 MB)\n",
      "\u001b[2K   \u001b[90m━━━━━━━━━━━━━━━━━━━━━━━━━━━━━━━━━━━━━━━━\u001b[0m \u001b[32m24.5/24.5 MB\u001b[0m \u001b[31m23.5 MB/s\u001b[0m eta \u001b[36m0:00:00\u001b[0m:00:01\u001b[0m00:01\u001b[0m\n",
      "\u001b[?25hDownloading ml_dtypes-0.4.1-cp311-cp311-manylinux_2_17_x86_64.manylinux2014_x86_64.whl (2.2 MB)\n",
      "\u001b[2K   \u001b[90m━━━━━━━━━━━━━━━━━━━━━━━━━━━━━━━━━━━━━━━━\u001b[0m \u001b[32m2.2/2.2 MB\u001b[0m \u001b[31m58.7 MB/s\u001b[0m eta \u001b[36m0:00:00\u001b[0m:00:01\u001b[0m\n",
      "\u001b[?25hDownloading opt_einsum-3.4.0-py3-none-any.whl (71 kB)\n",
      "\u001b[2K   \u001b[90m━━━━━━━━━━━━━━━━━━━━━━━━━━━━━━━━━━━━━━━━\u001b[0m \u001b[32m71.9/71.9 kB\u001b[0m \u001b[31m9.0 MB/s\u001b[0m eta \u001b[36m0:00:00\u001b[0m\n",
      "\u001b[?25hDownloading protobuf-5.29.2-cp38-abi3-manylinux2014_x86_64.whl (319 kB)\n",
      "\u001b[2K   \u001b[90m━━━━━━━━━━━━━━━━━━━━━━━━━━━━━━━━━━━━━━━━\u001b[0m \u001b[32m319.7/319.7 kB\u001b[0m \u001b[31m38.5 MB/s\u001b[0m eta \u001b[36m0:00:00\u001b[0m\n",
      "\u001b[?25hDownloading tensorboard-2.18.0-py3-none-any.whl (5.5 MB)\n",
      "\u001b[2K   \u001b[90m━━━━━━━━━━━━━━━━━━━━━━━━━━━━━━━━━━━━━━━━\u001b[0m \u001b[32m5.5/5.5 MB\u001b[0m \u001b[31m59.2 MB/s\u001b[0m eta \u001b[36m0:00:00\u001b[0m:00:01\u001b[0m\n",
      "\u001b[?25hDownloading tensorflow_io_gcs_filesystem-0.37.1-cp311-cp311-manylinux_2_17_x86_64.manylinux2014_x86_64.whl (5.1 MB)\n",
      "\u001b[2K   \u001b[90m━━━━━━━━━━━━━━━━━━━━━━━━━━━━━━━━━━━━━━━━\u001b[0m \u001b[32m5.1/5.1 MB\u001b[0m \u001b[31m55.4 MB/s\u001b[0m eta \u001b[36m0:00:00\u001b[0m:00:01\u001b[0m\n",
      "\u001b[?25hDownloading termcolor-2.5.0-py3-none-any.whl (7.8 kB)\n",
      "Downloading wrapt-1.17.0-cp311-cp311-manylinux_2_5_x86_64.manylinux1_x86_64.manylinux_2_17_x86_64.manylinux2014_x86_64.whl (83 kB)\n",
      "\u001b[2K   \u001b[90m━━━━━━━━━━━━━━━━━━━━━━━━━━━━━━━━━━━━━━━━\u001b[0m \u001b[32m83.2/83.2 kB\u001b[0m \u001b[31m13.1 MB/s\u001b[0m eta \u001b[36m0:00:00\u001b[0m\n",
      "\u001b[?25hDownloading Markdown-3.7-py3-none-any.whl (106 kB)\n",
      "\u001b[2K   \u001b[90m━━━━━━━━━━━━━━━━━━━━━━━━━━━━━━━━━━━━━━━━\u001b[0m \u001b[32m106.3/106.3 kB\u001b[0m \u001b[31m13.4 MB/s\u001b[0m eta \u001b[36m0:00:00\u001b[0m\n",
      "\u001b[?25hDownloading tensorboard_data_server-0.7.2-py3-none-manylinux_2_31_x86_64.whl (6.6 MB)\n",
      "\u001b[2K   \u001b[90m━━━━━━━━━━━━━━━━━━━━━━━━━━━━━━━━━━━━━━━━\u001b[0m \u001b[32m6.6/6.6 MB\u001b[0m \u001b[31m63.2 MB/s\u001b[0m eta \u001b[36m0:00:00\u001b[0m:00:01\u001b[0m00:01\u001b[0m\n",
      "\u001b[?25hDownloading werkzeug-3.1.3-py3-none-any.whl (224 kB)\n",
      "\u001b[2K   \u001b[90m━━━━━━━━━━━━━━━━━━━━━━━━━━━━━━━━━━━━━━━━\u001b[0m \u001b[32m224.5/224.5 kB\u001b[0m \u001b[31m27.7 MB/s\u001b[0m eta \u001b[36m0:00:00\u001b[0m\n",
      "\u001b[?25hDownloading namex-0.0.8-py3-none-any.whl (5.8 kB)\n",
      "Downloading optree-0.13.1-cp311-cp311-manylinux_2_17_x86_64.manylinux2014_x86_64.whl (391 kB)\n",
      "\u001b[2K   \u001b[90m━━━━━━━━━━━━━━━━━━━━━━━━━━━━━━━━━━━━━━━━\u001b[0m \u001b[32m391.8/391.8 kB\u001b[0m \u001b[31m44.1 MB/s\u001b[0m eta \u001b[36m0:00:00\u001b[0m\n",
      "\u001b[?25hDownloading rich-13.9.4-py3-none-any.whl (242 kB)\n",
      "\u001b[2K   \u001b[90m━━━━━━━━━━━━━━━━━━━━━━━━━━━━━━━━━━━━━━━━\u001b[0m \u001b[32m242.4/242.4 kB\u001b[0m \u001b[31m30.8 MB/s\u001b[0m eta \u001b[36m0:00:00\u001b[0m\n",
      "\u001b[?25hDownloading markdown_it_py-3.0.0-py3-none-any.whl (87 kB)\n",
      "\u001b[2K   \u001b[90m━━━━━━━━━━━━━━━━━━━━━━━━━━━━━━━━━━━━━━━━\u001b[0m \u001b[32m87.5/87.5 kB\u001b[0m \u001b[31m12.2 MB/s\u001b[0m eta \u001b[36m0:00:00\u001b[0m\n",
      "\u001b[?25hDownloading mdurl-0.1.2-py3-none-any.whl (10.0 kB)\n",
      "Installing collected packages: namex, libclang, flatbuffers, wrapt, werkzeug, termcolor, tensorflow-io-gcs-filesystem, tensorboard-data-server, protobuf, optree, opt-einsum, ml-dtypes, mdurl, markdown, h5py, grpcio, google-pasta, gast, astunparse, absl-py, tensorboard, markdown-it-py, rich, keras, tensorflow_cpu\n",
      "Successfully installed absl-py-2.1.0 astunparse-1.6.3 flatbuffers-24.3.25 gast-0.6.0 google-pasta-0.2.0 grpcio-1.68.1 h5py-3.12.1 keras-3.7.0 libclang-18.1.1 markdown-3.7 markdown-it-py-3.0.0 mdurl-0.1.2 ml-dtypes-0.4.1 namex-0.0.8 opt-einsum-3.4.0 optree-0.13.1 protobuf-5.29.2 rich-13.9.4 tensorboard-2.18.0 tensorboard-data-server-0.7.2 tensorflow-io-gcs-filesystem-0.37.1 tensorflow_cpu-2.18.0 termcolor-2.5.0 werkzeug-3.1.3 wrapt-1.17.0\n"
     ]
    }
   ],
   "source": [
    "# All Libraries required for this lab are listed below. The libraries pre-installed on Skills Network Labs are commented. \n",
    "# If you run this notebook on a different environment, e.g. your desktop, you may need to uncomment and install certain libraries.\n",
    "\n",
    "!pip install numpy==2.0.2\n",
    "!pip install pandas==2.2.2\n",
    "!pip install tensorflow_cpu==2.18.0\n"
   ]
  },
  {
   "cell_type": "markdown",
   "metadata": {},
   "source": [
    "##### To use Keras, you will also need to install a backend framework – such as TensorFlow.\n",
    "\n",
    "If you install TensorFlow 2.16 or above, it will install Keras by default.\n",
    "\n",
    "We are using the CPU version of tensorflow since we are dealing with smaller datasets. \n",
    "You may install the GPU version of tensorflow on your machine to accelarate the processing of larger datasets\n"
   ]
  },
  {
   "cell_type": "code",
   "execution_count": 4,
   "metadata": {},
   "outputs": [
    {
     "name": "stderr",
     "output_type": "stream",
     "text": [
      "2024-12-19 04:02:08.170494: I tensorflow/core/util/port.cc:153] oneDNN custom operations are on. You may see slightly different numerical results due to floating-point round-off errors from different computation orders. To turn them off, set the environment variable `TF_ENABLE_ONEDNN_OPTS=0`.\n",
      "2024-12-19 04:02:08.224561: I tensorflow/core/platform/cpu_feature_guard.cc:210] This TensorFlow binary is optimized to use available CPU instructions in performance-critical operations.\n",
      "To enable the following instructions: AVX2 AVX512F AVX512_VNNI FMA, in other operations, rebuild TensorFlow with the appropriate compiler flags.\n"
     ]
    }
   ],
   "source": [
    "import pandas as pd\n",
    "import numpy as np\n",
    "import keras\n",
    "\n",
    "import warnings\n",
    "warnings.simplefilter('ignore', FutureWarning)"
   ]
  },
  {
   "cell_type": "markdown",
   "metadata": {},
   "source": [
    "We will be playing around with the same dataset that we used in the videos.\n",
    "\n",
    "<strong>The dataset is about the compressive strength of different samples of concrete based on the volumes of the different ingredients that were used to make them. Ingredients include:</strong>\n",
    "\n",
    "* Cement\n",
    "* Blast furnace slag\n",
    "* Fly ash\n",
    "* Water\n",
    "* Superplasticizer\n",
    "* Coarse aggregate\n",
    "* Fine aggregate\n"
   ]
  },
  {
   "cell_type": "markdown",
   "metadata": {},
   "source": [
    "Let's download the data and read it into a <em>pandas</em> dataframe.\n"
   ]
  },
  {
   "cell_type": "code",
   "execution_count": 5,
   "metadata": {},
   "outputs": [
    {
     "data": {
      "text/html": [
       "<div>\n",
       "<style scoped>\n",
       "    .dataframe tbody tr th:only-of-type {\n",
       "        vertical-align: middle;\n",
       "    }\n",
       "\n",
       "    .dataframe tbody tr th {\n",
       "        vertical-align: top;\n",
       "    }\n",
       "\n",
       "    .dataframe thead th {\n",
       "        text-align: right;\n",
       "    }\n",
       "</style>\n",
       "<table border=\"1\" class=\"dataframe\">\n",
       "  <thead>\n",
       "    <tr style=\"text-align: right;\">\n",
       "      <th></th>\n",
       "      <th>Cement</th>\n",
       "      <th>Blast Furnace Slag</th>\n",
       "      <th>Fly Ash</th>\n",
       "      <th>Water</th>\n",
       "      <th>Superplasticizer</th>\n",
       "      <th>Coarse Aggregate</th>\n",
       "      <th>Fine Aggregate</th>\n",
       "      <th>Age</th>\n",
       "      <th>Strength</th>\n",
       "    </tr>\n",
       "  </thead>\n",
       "  <tbody>\n",
       "    <tr>\n",
       "      <th>0</th>\n",
       "      <td>540.0</td>\n",
       "      <td>0.0</td>\n",
       "      <td>0.0</td>\n",
       "      <td>162.0</td>\n",
       "      <td>2.5</td>\n",
       "      <td>1040.0</td>\n",
       "      <td>676.0</td>\n",
       "      <td>28</td>\n",
       "      <td>79.99</td>\n",
       "    </tr>\n",
       "    <tr>\n",
       "      <th>1</th>\n",
       "      <td>540.0</td>\n",
       "      <td>0.0</td>\n",
       "      <td>0.0</td>\n",
       "      <td>162.0</td>\n",
       "      <td>2.5</td>\n",
       "      <td>1055.0</td>\n",
       "      <td>676.0</td>\n",
       "      <td>28</td>\n",
       "      <td>61.89</td>\n",
       "    </tr>\n",
       "    <tr>\n",
       "      <th>2</th>\n",
       "      <td>332.5</td>\n",
       "      <td>142.5</td>\n",
       "      <td>0.0</td>\n",
       "      <td>228.0</td>\n",
       "      <td>0.0</td>\n",
       "      <td>932.0</td>\n",
       "      <td>594.0</td>\n",
       "      <td>270</td>\n",
       "      <td>40.27</td>\n",
       "    </tr>\n",
       "    <tr>\n",
       "      <th>3</th>\n",
       "      <td>332.5</td>\n",
       "      <td>142.5</td>\n",
       "      <td>0.0</td>\n",
       "      <td>228.0</td>\n",
       "      <td>0.0</td>\n",
       "      <td>932.0</td>\n",
       "      <td>594.0</td>\n",
       "      <td>365</td>\n",
       "      <td>41.05</td>\n",
       "    </tr>\n",
       "    <tr>\n",
       "      <th>4</th>\n",
       "      <td>198.6</td>\n",
       "      <td>132.4</td>\n",
       "      <td>0.0</td>\n",
       "      <td>192.0</td>\n",
       "      <td>0.0</td>\n",
       "      <td>978.4</td>\n",
       "      <td>825.5</td>\n",
       "      <td>360</td>\n",
       "      <td>44.30</td>\n",
       "    </tr>\n",
       "  </tbody>\n",
       "</table>\n",
       "</div>"
      ],
      "text/plain": [
       "   Cement  Blast Furnace Slag  Fly Ash  Water  Superplasticizer  \\\n",
       "0   540.0                 0.0      0.0  162.0               2.5   \n",
       "1   540.0                 0.0      0.0  162.0               2.5   \n",
       "2   332.5               142.5      0.0  228.0               0.0   \n",
       "3   332.5               142.5      0.0  228.0               0.0   \n",
       "4   198.6               132.4      0.0  192.0               0.0   \n",
       "\n",
       "   Coarse Aggregate  Fine Aggregate  Age  Strength  \n",
       "0            1040.0           676.0   28     79.99  \n",
       "1            1055.0           676.0   28     61.89  \n",
       "2             932.0           594.0  270     40.27  \n",
       "3             932.0           594.0  365     41.05  \n",
       "4             978.4           825.5  360     44.30  "
      ]
     },
     "execution_count": 5,
     "metadata": {},
     "output_type": "execute_result"
    }
   ],
   "source": [
    "filepath='https://s3-api.us-geo.objectstorage.softlayer.net/cf-courses-data/CognitiveClass/DL0101EN/labs/data/concrete_data.csv'\n",
    "concrete_data = pd.read_csv(filepath)\n",
    "\n",
    "concrete_data.head()"
   ]
  },
  {
   "cell_type": "markdown",
   "metadata": {},
   "source": [
    "So the first concrete sample has 540 cubic meter of cement, 0 cubic meter of blast furnace slag, 0 cubic meter of fly ash, 162 cubic meter of water, 2.5 cubic meter of superplaticizer, 1040 cubic meter of coarse aggregate, 676 cubic meter of fine aggregate. Such a concrete mix which is 28 days old, has a compressive strength of 79.99 MPa. \n"
   ]
  },
  {
   "cell_type": "markdown",
   "metadata": {},
   "source": [
    "#### Let's check how many data points we have\n"
   ]
  },
  {
   "cell_type": "code",
   "execution_count": 6,
   "metadata": {},
   "outputs": [
    {
     "data": {
      "text/plain": [
       "(1030, 9)"
      ]
     },
     "execution_count": 6,
     "metadata": {},
     "output_type": "execute_result"
    }
   ],
   "source": [
    "concrete_data.shape"
   ]
  },
  {
   "cell_type": "markdown",
   "metadata": {},
   "source": [
    "So, there are approximately 1000 samples to train our model on. Because of the few samples, we have to be careful not to overfit the training data.\n"
   ]
  },
  {
   "cell_type": "markdown",
   "metadata": {},
   "source": [
    "Let's check the dataset for any missing values.\n"
   ]
  },
  {
   "cell_type": "code",
   "execution_count": 7,
   "metadata": {},
   "outputs": [
    {
     "data": {
      "text/html": [
       "<div>\n",
       "<style scoped>\n",
       "    .dataframe tbody tr th:only-of-type {\n",
       "        vertical-align: middle;\n",
       "    }\n",
       "\n",
       "    .dataframe tbody tr th {\n",
       "        vertical-align: top;\n",
       "    }\n",
       "\n",
       "    .dataframe thead th {\n",
       "        text-align: right;\n",
       "    }\n",
       "</style>\n",
       "<table border=\"1\" class=\"dataframe\">\n",
       "  <thead>\n",
       "    <tr style=\"text-align: right;\">\n",
       "      <th></th>\n",
       "      <th>Cement</th>\n",
       "      <th>Blast Furnace Slag</th>\n",
       "      <th>Fly Ash</th>\n",
       "      <th>Water</th>\n",
       "      <th>Superplasticizer</th>\n",
       "      <th>Coarse Aggregate</th>\n",
       "      <th>Fine Aggregate</th>\n",
       "      <th>Age</th>\n",
       "      <th>Strength</th>\n",
       "    </tr>\n",
       "  </thead>\n",
       "  <tbody>\n",
       "    <tr>\n",
       "      <th>count</th>\n",
       "      <td>1030.000000</td>\n",
       "      <td>1030.000000</td>\n",
       "      <td>1030.000000</td>\n",
       "      <td>1030.000000</td>\n",
       "      <td>1030.000000</td>\n",
       "      <td>1030.000000</td>\n",
       "      <td>1030.000000</td>\n",
       "      <td>1030.000000</td>\n",
       "      <td>1030.000000</td>\n",
       "    </tr>\n",
       "    <tr>\n",
       "      <th>mean</th>\n",
       "      <td>281.167864</td>\n",
       "      <td>73.895825</td>\n",
       "      <td>54.188350</td>\n",
       "      <td>181.567282</td>\n",
       "      <td>6.204660</td>\n",
       "      <td>972.918932</td>\n",
       "      <td>773.580485</td>\n",
       "      <td>45.662136</td>\n",
       "      <td>35.817961</td>\n",
       "    </tr>\n",
       "    <tr>\n",
       "      <th>std</th>\n",
       "      <td>104.506364</td>\n",
       "      <td>86.279342</td>\n",
       "      <td>63.997004</td>\n",
       "      <td>21.354219</td>\n",
       "      <td>5.973841</td>\n",
       "      <td>77.753954</td>\n",
       "      <td>80.175980</td>\n",
       "      <td>63.169912</td>\n",
       "      <td>16.705742</td>\n",
       "    </tr>\n",
       "    <tr>\n",
       "      <th>min</th>\n",
       "      <td>102.000000</td>\n",
       "      <td>0.000000</td>\n",
       "      <td>0.000000</td>\n",
       "      <td>121.800000</td>\n",
       "      <td>0.000000</td>\n",
       "      <td>801.000000</td>\n",
       "      <td>594.000000</td>\n",
       "      <td>1.000000</td>\n",
       "      <td>2.330000</td>\n",
       "    </tr>\n",
       "    <tr>\n",
       "      <th>25%</th>\n",
       "      <td>192.375000</td>\n",
       "      <td>0.000000</td>\n",
       "      <td>0.000000</td>\n",
       "      <td>164.900000</td>\n",
       "      <td>0.000000</td>\n",
       "      <td>932.000000</td>\n",
       "      <td>730.950000</td>\n",
       "      <td>7.000000</td>\n",
       "      <td>23.710000</td>\n",
       "    </tr>\n",
       "    <tr>\n",
       "      <th>50%</th>\n",
       "      <td>272.900000</td>\n",
       "      <td>22.000000</td>\n",
       "      <td>0.000000</td>\n",
       "      <td>185.000000</td>\n",
       "      <td>6.400000</td>\n",
       "      <td>968.000000</td>\n",
       "      <td>779.500000</td>\n",
       "      <td>28.000000</td>\n",
       "      <td>34.445000</td>\n",
       "    </tr>\n",
       "    <tr>\n",
       "      <th>75%</th>\n",
       "      <td>350.000000</td>\n",
       "      <td>142.950000</td>\n",
       "      <td>118.300000</td>\n",
       "      <td>192.000000</td>\n",
       "      <td>10.200000</td>\n",
       "      <td>1029.400000</td>\n",
       "      <td>824.000000</td>\n",
       "      <td>56.000000</td>\n",
       "      <td>46.135000</td>\n",
       "    </tr>\n",
       "    <tr>\n",
       "      <th>max</th>\n",
       "      <td>540.000000</td>\n",
       "      <td>359.400000</td>\n",
       "      <td>200.100000</td>\n",
       "      <td>247.000000</td>\n",
       "      <td>32.200000</td>\n",
       "      <td>1145.000000</td>\n",
       "      <td>992.600000</td>\n",
       "      <td>365.000000</td>\n",
       "      <td>82.600000</td>\n",
       "    </tr>\n",
       "  </tbody>\n",
       "</table>\n",
       "</div>"
      ],
      "text/plain": [
       "            Cement  Blast Furnace Slag      Fly Ash        Water  \\\n",
       "count  1030.000000         1030.000000  1030.000000  1030.000000   \n",
       "mean    281.167864           73.895825    54.188350   181.567282   \n",
       "std     104.506364           86.279342    63.997004    21.354219   \n",
       "min     102.000000            0.000000     0.000000   121.800000   \n",
       "25%     192.375000            0.000000     0.000000   164.900000   \n",
       "50%     272.900000           22.000000     0.000000   185.000000   \n",
       "75%     350.000000          142.950000   118.300000   192.000000   \n",
       "max     540.000000          359.400000   200.100000   247.000000   \n",
       "\n",
       "       Superplasticizer  Coarse Aggregate  Fine Aggregate          Age  \\\n",
       "count       1030.000000       1030.000000     1030.000000  1030.000000   \n",
       "mean           6.204660        972.918932      773.580485    45.662136   \n",
       "std            5.973841         77.753954       80.175980    63.169912   \n",
       "min            0.000000        801.000000      594.000000     1.000000   \n",
       "25%            0.000000        932.000000      730.950000     7.000000   \n",
       "50%            6.400000        968.000000      779.500000    28.000000   \n",
       "75%           10.200000       1029.400000      824.000000    56.000000   \n",
       "max           32.200000       1145.000000      992.600000   365.000000   \n",
       "\n",
       "          Strength  \n",
       "count  1030.000000  \n",
       "mean     35.817961  \n",
       "std      16.705742  \n",
       "min       2.330000  \n",
       "25%      23.710000  \n",
       "50%      34.445000  \n",
       "75%      46.135000  \n",
       "max      82.600000  "
      ]
     },
     "execution_count": 7,
     "metadata": {},
     "output_type": "execute_result"
    }
   ],
   "source": [
    "concrete_data.describe()"
   ]
  },
  {
   "cell_type": "code",
   "execution_count": 8,
   "metadata": {},
   "outputs": [
    {
     "data": {
      "text/plain": [
       "Cement                0\n",
       "Blast Furnace Slag    0\n",
       "Fly Ash               0\n",
       "Water                 0\n",
       "Superplasticizer      0\n",
       "Coarse Aggregate      0\n",
       "Fine Aggregate        0\n",
       "Age                   0\n",
       "Strength              0\n",
       "dtype: int64"
      ]
     },
     "execution_count": 8,
     "metadata": {},
     "output_type": "execute_result"
    }
   ],
   "source": [
    "concrete_data.isnull().sum()"
   ]
  },
  {
   "cell_type": "markdown",
   "metadata": {},
   "source": [
    "The data looks very clean and is ready to be used to build our model.\n"
   ]
  },
  {
   "cell_type": "markdown",
   "metadata": {},
   "source": [
    "#### Split data into predictors and target\n"
   ]
  },
  {
   "cell_type": "markdown",
   "metadata": {},
   "source": [
    "The target variable in this problem is the concrete sample strength. Therefore, our predictors will be all the other columns.\n"
   ]
  },
  {
   "cell_type": "code",
   "execution_count": 9,
   "metadata": {},
   "outputs": [],
   "source": [
    "concrete_data_columns = concrete_data.columns"
   ]
  },
  {
   "cell_type": "code",
   "execution_count": 11,
   "metadata": {},
   "outputs": [],
   "source": [
    "predictors = concrete_data[concrete_data_columns[concrete_data_columns != 'Strength']] # all columns except Strength\n",
    "target = concrete_data['Strength'] # Strength column"
   ]
  },
  {
   "cell_type": "markdown",
   "metadata": {},
   "source": [
    "<a id=\"item2\"></a>\n"
   ]
  },
  {
   "cell_type": "markdown",
   "metadata": {},
   "source": [
    "Let's do a quick sanity check of the predictors and the target dataframes.\n"
   ]
  },
  {
   "cell_type": "code",
   "execution_count": 12,
   "metadata": {},
   "outputs": [
    {
     "data": {
      "text/html": [
       "<div>\n",
       "<style scoped>\n",
       "    .dataframe tbody tr th:only-of-type {\n",
       "        vertical-align: middle;\n",
       "    }\n",
       "\n",
       "    .dataframe tbody tr th {\n",
       "        vertical-align: top;\n",
       "    }\n",
       "\n",
       "    .dataframe thead th {\n",
       "        text-align: right;\n",
       "    }\n",
       "</style>\n",
       "<table border=\"1\" class=\"dataframe\">\n",
       "  <thead>\n",
       "    <tr style=\"text-align: right;\">\n",
       "      <th></th>\n",
       "      <th>Cement</th>\n",
       "      <th>Blast Furnace Slag</th>\n",
       "      <th>Fly Ash</th>\n",
       "      <th>Water</th>\n",
       "      <th>Superplasticizer</th>\n",
       "      <th>Coarse Aggregate</th>\n",
       "      <th>Fine Aggregate</th>\n",
       "      <th>Age</th>\n",
       "    </tr>\n",
       "  </thead>\n",
       "  <tbody>\n",
       "    <tr>\n",
       "      <th>0</th>\n",
       "      <td>540.0</td>\n",
       "      <td>0.0</td>\n",
       "      <td>0.0</td>\n",
       "      <td>162.0</td>\n",
       "      <td>2.5</td>\n",
       "      <td>1040.0</td>\n",
       "      <td>676.0</td>\n",
       "      <td>28</td>\n",
       "    </tr>\n",
       "    <tr>\n",
       "      <th>1</th>\n",
       "      <td>540.0</td>\n",
       "      <td>0.0</td>\n",
       "      <td>0.0</td>\n",
       "      <td>162.0</td>\n",
       "      <td>2.5</td>\n",
       "      <td>1055.0</td>\n",
       "      <td>676.0</td>\n",
       "      <td>28</td>\n",
       "    </tr>\n",
       "    <tr>\n",
       "      <th>2</th>\n",
       "      <td>332.5</td>\n",
       "      <td>142.5</td>\n",
       "      <td>0.0</td>\n",
       "      <td>228.0</td>\n",
       "      <td>0.0</td>\n",
       "      <td>932.0</td>\n",
       "      <td>594.0</td>\n",
       "      <td>270</td>\n",
       "    </tr>\n",
       "    <tr>\n",
       "      <th>3</th>\n",
       "      <td>332.5</td>\n",
       "      <td>142.5</td>\n",
       "      <td>0.0</td>\n",
       "      <td>228.0</td>\n",
       "      <td>0.0</td>\n",
       "      <td>932.0</td>\n",
       "      <td>594.0</td>\n",
       "      <td>365</td>\n",
       "    </tr>\n",
       "    <tr>\n",
       "      <th>4</th>\n",
       "      <td>198.6</td>\n",
       "      <td>132.4</td>\n",
       "      <td>0.0</td>\n",
       "      <td>192.0</td>\n",
       "      <td>0.0</td>\n",
       "      <td>978.4</td>\n",
       "      <td>825.5</td>\n",
       "      <td>360</td>\n",
       "    </tr>\n",
       "  </tbody>\n",
       "</table>\n",
       "</div>"
      ],
      "text/plain": [
       "   Cement  Blast Furnace Slag  Fly Ash  Water  Superplasticizer  \\\n",
       "0   540.0                 0.0      0.0  162.0               2.5   \n",
       "1   540.0                 0.0      0.0  162.0               2.5   \n",
       "2   332.5               142.5      0.0  228.0               0.0   \n",
       "3   332.5               142.5      0.0  228.0               0.0   \n",
       "4   198.6               132.4      0.0  192.0               0.0   \n",
       "\n",
       "   Coarse Aggregate  Fine Aggregate  Age  \n",
       "0            1040.0           676.0   28  \n",
       "1            1055.0           676.0   28  \n",
       "2             932.0           594.0  270  \n",
       "3             932.0           594.0  365  \n",
       "4             978.4           825.5  360  "
      ]
     },
     "execution_count": 12,
     "metadata": {},
     "output_type": "execute_result"
    }
   ],
   "source": [
    "predictors.head()"
   ]
  },
  {
   "cell_type": "code",
   "execution_count": 13,
   "metadata": {},
   "outputs": [
    {
     "data": {
      "text/plain": [
       "0    79.99\n",
       "1    61.89\n",
       "2    40.27\n",
       "3    41.05\n",
       "4    44.30\n",
       "Name: Strength, dtype: float64"
      ]
     },
     "execution_count": 13,
     "metadata": {},
     "output_type": "execute_result"
    }
   ],
   "source": [
    "target.head()"
   ]
  },
  {
   "cell_type": "markdown",
   "metadata": {},
   "source": [
    "Finally, the last step is to normalize the data by substracting the mean and dividing by the standard deviation.\n"
   ]
  },
  {
   "cell_type": "code",
   "execution_count": 14,
   "metadata": {},
   "outputs": [
    {
     "data": {
      "text/html": [
       "<div>\n",
       "<style scoped>\n",
       "    .dataframe tbody tr th:only-of-type {\n",
       "        vertical-align: middle;\n",
       "    }\n",
       "\n",
       "    .dataframe tbody tr th {\n",
       "        vertical-align: top;\n",
       "    }\n",
       "\n",
       "    .dataframe thead th {\n",
       "        text-align: right;\n",
       "    }\n",
       "</style>\n",
       "<table border=\"1\" class=\"dataframe\">\n",
       "  <thead>\n",
       "    <tr style=\"text-align: right;\">\n",
       "      <th></th>\n",
       "      <th>Cement</th>\n",
       "      <th>Blast Furnace Slag</th>\n",
       "      <th>Fly Ash</th>\n",
       "      <th>Water</th>\n",
       "      <th>Superplasticizer</th>\n",
       "      <th>Coarse Aggregate</th>\n",
       "      <th>Fine Aggregate</th>\n",
       "      <th>Age</th>\n",
       "    </tr>\n",
       "  </thead>\n",
       "  <tbody>\n",
       "    <tr>\n",
       "      <th>0</th>\n",
       "      <td>2.476712</td>\n",
       "      <td>-0.856472</td>\n",
       "      <td>-0.846733</td>\n",
       "      <td>-0.916319</td>\n",
       "      <td>-0.620147</td>\n",
       "      <td>0.862735</td>\n",
       "      <td>-1.217079</td>\n",
       "      <td>-0.279597</td>\n",
       "    </tr>\n",
       "    <tr>\n",
       "      <th>1</th>\n",
       "      <td>2.476712</td>\n",
       "      <td>-0.856472</td>\n",
       "      <td>-0.846733</td>\n",
       "      <td>-0.916319</td>\n",
       "      <td>-0.620147</td>\n",
       "      <td>1.055651</td>\n",
       "      <td>-1.217079</td>\n",
       "      <td>-0.279597</td>\n",
       "    </tr>\n",
       "    <tr>\n",
       "      <th>2</th>\n",
       "      <td>0.491187</td>\n",
       "      <td>0.795140</td>\n",
       "      <td>-0.846733</td>\n",
       "      <td>2.174405</td>\n",
       "      <td>-1.038638</td>\n",
       "      <td>-0.526262</td>\n",
       "      <td>-2.239829</td>\n",
       "      <td>3.551340</td>\n",
       "    </tr>\n",
       "    <tr>\n",
       "      <th>3</th>\n",
       "      <td>0.491187</td>\n",
       "      <td>0.795140</td>\n",
       "      <td>-0.846733</td>\n",
       "      <td>2.174405</td>\n",
       "      <td>-1.038638</td>\n",
       "      <td>-0.526262</td>\n",
       "      <td>-2.239829</td>\n",
       "      <td>5.055221</td>\n",
       "    </tr>\n",
       "    <tr>\n",
       "      <th>4</th>\n",
       "      <td>-0.790075</td>\n",
       "      <td>0.678079</td>\n",
       "      <td>-0.846733</td>\n",
       "      <td>0.488555</td>\n",
       "      <td>-1.038638</td>\n",
       "      <td>0.070492</td>\n",
       "      <td>0.647569</td>\n",
       "      <td>4.976069</td>\n",
       "    </tr>\n",
       "  </tbody>\n",
       "</table>\n",
       "</div>"
      ],
      "text/plain": [
       "     Cement  Blast Furnace Slag   Fly Ash     Water  Superplasticizer  \\\n",
       "0  2.476712           -0.856472 -0.846733 -0.916319         -0.620147   \n",
       "1  2.476712           -0.856472 -0.846733 -0.916319         -0.620147   \n",
       "2  0.491187            0.795140 -0.846733  2.174405         -1.038638   \n",
       "3  0.491187            0.795140 -0.846733  2.174405         -1.038638   \n",
       "4 -0.790075            0.678079 -0.846733  0.488555         -1.038638   \n",
       "\n",
       "   Coarse Aggregate  Fine Aggregate       Age  \n",
       "0          0.862735       -1.217079 -0.279597  \n",
       "1          1.055651       -1.217079 -0.279597  \n",
       "2         -0.526262       -2.239829  3.551340  \n",
       "3         -0.526262       -2.239829  5.055221  \n",
       "4          0.070492        0.647569  4.976069  "
      ]
     },
     "execution_count": 14,
     "metadata": {},
     "output_type": "execute_result"
    }
   ],
   "source": [
    "predictors_norm = (predictors - predictors.mean()) / predictors.std()\n",
    "predictors_norm.head()"
   ]
  },
  {
   "cell_type": "markdown",
   "metadata": {},
   "source": [
    "Let's save the number of predictors to *n_cols* since we will need this number when building our network.\n"
   ]
  },
  {
   "cell_type": "code",
   "execution_count": 15,
   "metadata": {},
   "outputs": [],
   "source": [
    "n_cols = predictors_norm.shape[1] # number of predictors"
   ]
  },
  {
   "cell_type": "markdown",
   "metadata": {},
   "source": [
    "<a id=\"item1\"></a>\n"
   ]
  },
  {
   "cell_type": "markdown",
   "metadata": {},
   "source": [
    "<a id='item32'></a>\n"
   ]
  },
  {
   "cell_type": "markdown",
   "metadata": {},
   "source": [
    "##  Import Keras Packages\n",
    "\n",
    "##### Let's import the rest of the packages from the Keras library that we will need to build our regression model.\n"
   ]
  },
  {
   "cell_type": "code",
   "execution_count": 16,
   "metadata": {},
   "outputs": [],
   "source": [
    "from keras.models import Sequential\n",
    "from keras.layers import Dense\n",
    "from keras.layers import Input"
   ]
  },
  {
   "cell_type": "markdown",
   "metadata": {},
   "source": [
    "<a id='item33'></a>\n"
   ]
  },
  {
   "cell_type": "markdown",
   "metadata": {},
   "source": [
    "## Build a Neural Network\n"
   ]
  },
  {
   "cell_type": "markdown",
   "metadata": {},
   "source": [
    "Let's define a function that defines our regression model for us so that we can conveniently call it to create our model.\n"
   ]
  },
  {
   "cell_type": "code",
   "execution_count": 17,
   "metadata": {},
   "outputs": [],
   "source": [
    "# define regression model\n",
    "def regression_model():\n",
    "    # create model\n",
    "    model = Sequential()\n",
    "    model.add(Input(shape=(n_cols,)))\n",
    "    model.add(Dense(50, activation='relu'))\n",
    "    model.add(Dense(50, activation='relu'))\n",
    "    model.add(Dense(1))\n",
    "    \n",
    "    # compile model\n",
    "    model.compile(optimizer='adam', loss='mean_squared_error')\n",
    "    return model"
   ]
  },
  {
   "cell_type": "markdown",
   "metadata": {},
   "source": [
    "The above function create a model that has two hidden layers, each of 50 hidden units.\n"
   ]
  },
  {
   "cell_type": "markdown",
   "metadata": {},
   "source": [
    "<a id=\"item4\"></a>\n"
   ]
  },
  {
   "cell_type": "markdown",
   "metadata": {},
   "source": [
    "## Train and Test the Network\n"
   ]
  },
  {
   "cell_type": "markdown",
   "metadata": {},
   "source": [
    "Let's call the function now to create our model.\n"
   ]
  },
  {
   "cell_type": "code",
   "execution_count": 30,
   "metadata": {},
   "outputs": [],
   "source": [
    "class MyModel(keras.Model):\n",
    "    def __init__(self):\n",
    "        super().__init__()\n",
    "        self.dense1 = keras.layers.Dense(50, activation=\"relu\")\n",
    "        self.dense2 = keras.layers.Dense(1)\n",
    "        \n",
    "    def build(self, input_shape):\n",
    "        self.dense1.build(input_shape)\n",
    "        self.dense2.build((input_shape[0], 50))  # Output of dense1 is 50\n",
    "        super().build(input_shape)\n",
    "        \n",
    "    def call(self, inputs):\n",
    "        x = self.dense1(inputs)\n",
    "        return self.dense2(x)"
   ]
  },
  {
   "cell_type": "code",
   "execution_count": 31,
   "metadata": {},
   "outputs": [],
   "source": [
    "model = MyModel()"
   ]
  },
  {
   "cell_type": "code",
   "execution_count": 32,
   "metadata": {},
   "outputs": [
    {
     "data": {
      "text/html": [
       "<pre style=\"white-space:pre;overflow-x:auto;line-height:normal;font-family:Menlo,'DejaVu Sans Mono',consolas,'Courier New',monospace\"><span style=\"font-weight: bold\">Model: \"my_model_2\"</span>\n",
       "</pre>\n"
      ],
      "text/plain": [
       "\u001b[1mModel: \"my_model_2\"\u001b[0m\n"
      ]
     },
     "metadata": {},
     "output_type": "display_data"
    },
    {
     "data": {
      "text/html": [
       "<pre style=\"white-space:pre;overflow-x:auto;line-height:normal;font-family:Menlo,'DejaVu Sans Mono',consolas,'Courier New',monospace\">┏━━━━━━━━━━━━━━━━━━━━━━━━━━━━━━━━━┳━━━━━━━━━━━━━━━━━━━━━━━━┳━━━━━━━━━━━━━━━┓\n",
       "┃<span style=\"font-weight: bold\"> Layer (type)                    </span>┃<span style=\"font-weight: bold\"> Output Shape           </span>┃<span style=\"font-weight: bold\">       Param # </span>┃\n",
       "┡━━━━━━━━━━━━━━━━━━━━━━━━━━━━━━━━━╇━━━━━━━━━━━━━━━━━━━━━━━━╇━━━━━━━━━━━━━━━┩\n",
       "│ dense_7 (<span style=\"color: #0087ff; text-decoration-color: #0087ff\">Dense</span>)                 │ (<span style=\"color: #00d7ff; text-decoration-color: #00d7ff\">None</span>, <span style=\"color: #00af00; text-decoration-color: #00af00\">50</span>)             │           <span style=\"color: #00af00; text-decoration-color: #00af00\">450</span> │\n",
       "├─────────────────────────────────┼────────────────────────┼───────────────┤\n",
       "│ dense_8 (<span style=\"color: #0087ff; text-decoration-color: #0087ff\">Dense</span>)                 │ (<span style=\"color: #00d7ff; text-decoration-color: #00d7ff\">None</span>, <span style=\"color: #00af00; text-decoration-color: #00af00\">1</span>)              │            <span style=\"color: #00af00; text-decoration-color: #00af00\">51</span> │\n",
       "└─────────────────────────────────┴────────────────────────┴───────────────┘\n",
       "</pre>\n"
      ],
      "text/plain": [
       "┏━━━━━━━━━━━━━━━━━━━━━━━━━━━━━━━━━┳━━━━━━━━━━━━━━━━━━━━━━━━┳━━━━━━━━━━━━━━━┓\n",
       "┃\u001b[1m \u001b[0m\u001b[1mLayer (type)                   \u001b[0m\u001b[1m \u001b[0m┃\u001b[1m \u001b[0m\u001b[1mOutput Shape          \u001b[0m\u001b[1m \u001b[0m┃\u001b[1m \u001b[0m\u001b[1m      Param #\u001b[0m\u001b[1m \u001b[0m┃\n",
       "┡━━━━━━━━━━━━━━━━━━━━━━━━━━━━━━━━━╇━━━━━━━━━━━━━━━━━━━━━━━━╇━━━━━━━━━━━━━━━┩\n",
       "│ dense_7 (\u001b[38;5;33mDense\u001b[0m)                 │ (\u001b[38;5;45mNone\u001b[0m, \u001b[38;5;34m50\u001b[0m)             │           \u001b[38;5;34m450\u001b[0m │\n",
       "├─────────────────────────────────┼────────────────────────┼───────────────┤\n",
       "│ dense_8 (\u001b[38;5;33mDense\u001b[0m)                 │ (\u001b[38;5;45mNone\u001b[0m, \u001b[38;5;34m1\u001b[0m)              │            \u001b[38;5;34m51\u001b[0m │\n",
       "└─────────────────────────────────┴────────────────────────┴───────────────┘\n"
      ]
     },
     "metadata": {},
     "output_type": "display_data"
    },
    {
     "data": {
      "text/html": [
       "<pre style=\"white-space:pre;overflow-x:auto;line-height:normal;font-family:Menlo,'DejaVu Sans Mono',consolas,'Courier New',monospace\"><span style=\"font-weight: bold\"> Total params: </span><span style=\"color: #00af00; text-decoration-color: #00af00\">501</span> (1.96 KB)\n",
       "</pre>\n"
      ],
      "text/plain": [
       "\u001b[1m Total params: \u001b[0m\u001b[38;5;34m501\u001b[0m (1.96 KB)\n"
      ]
     },
     "metadata": {},
     "output_type": "display_data"
    },
    {
     "data": {
      "text/html": [
       "<pre style=\"white-space:pre;overflow-x:auto;line-height:normal;font-family:Menlo,'DejaVu Sans Mono',consolas,'Courier New',monospace\"><span style=\"font-weight: bold\"> Trainable params: </span><span style=\"color: #00af00; text-decoration-color: #00af00\">501</span> (1.96 KB)\n",
       "</pre>\n"
      ],
      "text/plain": [
       "\u001b[1m Trainable params: \u001b[0m\u001b[38;5;34m501\u001b[0m (1.96 KB)\n"
      ]
     },
     "metadata": {},
     "output_type": "display_data"
    },
    {
     "data": {
      "text/html": [
       "<pre style=\"white-space:pre;overflow-x:auto;line-height:normal;font-family:Menlo,'DejaVu Sans Mono',consolas,'Courier New',monospace\"><span style=\"font-weight: bold\"> Non-trainable params: </span><span style=\"color: #00af00; text-decoration-color: #00af00\">0</span> (0.00 B)\n",
       "</pre>\n"
      ],
      "text/plain": [
       "\u001b[1m Non-trainable params: \u001b[0m\u001b[38;5;34m0\u001b[0m (0.00 B)\n"
      ]
     },
     "metadata": {},
     "output_type": "display_data"
    }
   ],
   "source": [
    "model = MyModel()\n",
    "model.build(input_shape=(None, predictors_norm.shape[1]))  # Pass the input shape\n",
    "model.summary()"
   ]
  },
  {
   "cell_type": "code",
   "execution_count": 33,
   "metadata": {},
   "outputs": [],
   "source": [
    "model.compile(optimizer=\"adam\", loss=\"mse\", metrics=[\"mae\"])"
   ]
  },
  {
   "cell_type": "code",
   "execution_count": 34,
   "metadata": {},
   "outputs": [
    {
     "name": "stdout",
     "output_type": "stream",
     "text": [
      "Epoch 1/100\n",
      "23/23 - 1s - 61ms/step - loss: 1682.7240 - mae: 37.0527 - val_loss: 1188.1139 - val_mae: 31.7926\n",
      "Epoch 2/100\n",
      "23/23 - 0s - 7ms/step - loss: 1635.7277 - mae: 36.4761 - val_loss: 1158.5363 - val_mae: 31.3464\n",
      "Epoch 3/100\n",
      "23/23 - 0s - 7ms/step - loss: 1589.5498 - mae: 35.9002 - val_loss: 1128.5049 - val_mae: 30.8889\n",
      "Epoch 4/100\n",
      "23/23 - 0s - 8ms/step - loss: 1542.0074 - mae: 35.2984 - val_loss: 1098.2535 - val_mae: 30.4196\n",
      "Epoch 5/100\n",
      "23/23 - 0s - 8ms/step - loss: 1492.6493 - mae: 34.6609 - val_loss: 1065.7810 - val_mae: 29.9134\n",
      "Epoch 6/100\n",
      "23/23 - 0s - 8ms/step - loss: 1438.4407 - mae: 33.9559 - val_loss: 1031.5475 - val_mae: 29.3707\n",
      "Epoch 7/100\n",
      "23/23 - 0s - 12ms/step - loss: 1379.8390 - mae: 33.1877 - val_loss: 996.0277 - val_mae: 28.7924\n",
      "Epoch 8/100\n",
      "23/23 - 0s - 7ms/step - loss: 1316.4131 - mae: 32.3267 - val_loss: 958.4018 - val_mae: 28.1661\n",
      "Epoch 9/100\n",
      "23/23 - 0s - 7ms/step - loss: 1249.4244 - mae: 31.3872 - val_loss: 917.5269 - val_mae: 27.4748\n",
      "Epoch 10/100\n",
      "23/23 - 0s - 7ms/step - loss: 1178.1416 - mae: 30.3620 - val_loss: 875.3381 - val_mae: 26.7370\n",
      "Epoch 11/100\n",
      "23/23 - 0s - 7ms/step - loss: 1103.1093 - mae: 29.2566 - val_loss: 830.6455 - val_mae: 25.9422\n",
      "Epoch 12/100\n",
      "23/23 - 0s - 6ms/step - loss: 1026.7780 - mae: 28.0717 - val_loss: 785.0283 - val_mae: 25.1028\n",
      "Epoch 13/100\n",
      "23/23 - 0s - 7ms/step - loss: 949.2513 - mae: 26.8207 - val_loss: 738.2150 - val_mae: 24.2325\n",
      "Epoch 14/100\n",
      "23/23 - 0s - 6ms/step - loss: 872.4699 - mae: 25.5088 - val_loss: 691.6307 - val_mae: 23.3450\n",
      "Epoch 15/100\n",
      "23/23 - 0s - 7ms/step - loss: 795.4388 - mae: 24.1445 - val_loss: 644.1738 - val_mae: 22.4737\n",
      "Epoch 16/100\n",
      "23/23 - 0s - 7ms/step - loss: 722.1326 - mae: 22.7964 - val_loss: 597.8701 - val_mae: 21.6145\n",
      "Epoch 17/100\n",
      "23/23 - 0s - 6ms/step - loss: 653.0466 - mae: 21.4681 - val_loss: 553.4964 - val_mae: 20.7561\n",
      "Epoch 18/100\n",
      "23/23 - 0s - 6ms/step - loss: 588.1161 - mae: 20.1389 - val_loss: 511.5998 - val_mae: 19.9302\n",
      "Epoch 19/100\n",
      "23/23 - 0s - 7ms/step - loss: 529.4866 - mae: 18.9574 - val_loss: 473.7701 - val_mae: 19.1648\n",
      "Epoch 20/100\n",
      "23/23 - 0s - 7ms/step - loss: 476.6175 - mae: 17.8688 - val_loss: 437.2766 - val_mae: 18.3939\n",
      "Epoch 21/100\n",
      "23/23 - 0s - 6ms/step - loss: 430.2907 - mae: 16.8819 - val_loss: 402.7095 - val_mae: 17.6156\n",
      "Epoch 22/100\n",
      "23/23 - 0s - 7ms/step - loss: 389.8514 - mae: 16.0086 - val_loss: 373.3451 - val_mae: 16.9214\n",
      "Epoch 23/100\n",
      "23/23 - 0s - 7ms/step - loss: 355.1891 - mae: 15.2344 - val_loss: 346.8959 - val_mae: 16.2506\n",
      "Epoch 24/100\n",
      "23/23 - 0s - 6ms/step - loss: 325.7473 - mae: 14.5654 - val_loss: 322.5114 - val_mae: 15.6209\n",
      "Epoch 25/100\n",
      "23/23 - 0s - 6ms/step - loss: 301.7720 - mae: 13.9749 - val_loss: 300.6933 - val_mae: 15.0188\n",
      "Epoch 26/100\n",
      "23/23 - 0s - 7ms/step - loss: 281.4999 - mae: 13.4714 - val_loss: 283.1067 - val_mae: 14.4936\n",
      "Epoch 27/100\n",
      "23/23 - 0s - 6ms/step - loss: 265.0264 - mae: 13.0546 - val_loss: 268.0511 - val_mae: 14.0250\n",
      "Epoch 28/100\n",
      "23/23 - 0s - 6ms/step - loss: 251.4686 - mae: 12.7026 - val_loss: 254.2322 - val_mae: 13.5984\n",
      "Epoch 29/100\n",
      "23/23 - 0s - 7ms/step - loss: 239.9486 - mae: 12.4132 - val_loss: 242.4627 - val_mae: 13.2182\n",
      "Epoch 30/100\n",
      "23/23 - 0s - 6ms/step - loss: 230.5590 - mae: 12.1653 - val_loss: 232.5904 - val_mae: 12.8851\n",
      "Epoch 31/100\n",
      "23/23 - 0s - 6ms/step - loss: 222.6331 - mae: 11.9607 - val_loss: 224.1009 - val_mae: 12.5953\n",
      "Epoch 32/100\n",
      "23/23 - 0s - 6ms/step - loss: 215.9236 - mae: 11.7858 - val_loss: 216.8643 - val_mae: 12.3492\n",
      "Epoch 33/100\n",
      "23/23 - 0s - 7ms/step - loss: 210.2029 - mae: 11.6298 - val_loss: 209.8583 - val_mae: 12.1196\n",
      "Epoch 34/100\n",
      "23/23 - 0s - 7ms/step - loss: 205.0084 - mae: 11.5076 - val_loss: 205.0340 - val_mae: 11.9603\n",
      "Epoch 35/100\n",
      "23/23 - 0s - 7ms/step - loss: 200.3761 - mae: 11.3983 - val_loss: 199.3113 - val_mae: 11.7742\n",
      "Epoch 36/100\n",
      "23/23 - 0s - 6ms/step - loss: 196.3772 - mae: 11.3015 - val_loss: 194.3465 - val_mae: 11.6100\n",
      "Epoch 37/100\n",
      "23/23 - 0s - 6ms/step - loss: 192.6118 - mae: 11.2108 - val_loss: 190.2667 - val_mae: 11.4689\n",
      "Epoch 38/100\n",
      "23/23 - 0s - 6ms/step - loss: 189.0475 - mae: 11.1230 - val_loss: 186.6899 - val_mae: 11.3385\n",
      "Epoch 39/100\n",
      "23/23 - 0s - 7ms/step - loss: 185.9477 - mae: 11.0275 - val_loss: 183.6427 - val_mae: 11.2354\n",
      "Epoch 40/100\n",
      "23/23 - 0s - 7ms/step - loss: 182.9735 - mae: 10.9506 - val_loss: 180.2027 - val_mae: 11.1116\n",
      "Epoch 41/100\n",
      "23/23 - 0s - 7ms/step - loss: 180.1287 - mae: 10.8805 - val_loss: 178.3108 - val_mae: 11.0461\n",
      "Epoch 42/100\n",
      "23/23 - 0s - 6ms/step - loss: 177.7009 - mae: 10.8131 - val_loss: 174.5292 - val_mae: 10.9187\n",
      "Epoch 43/100\n",
      "23/23 - 0s - 7ms/step - loss: 175.0819 - mae: 10.7538 - val_loss: 172.4256 - val_mae: 10.8439\n",
      "Epoch 44/100\n",
      "23/23 - 0s - 6ms/step - loss: 172.6088 - mae: 10.6874 - val_loss: 169.9015 - val_mae: 10.7518\n",
      "Epoch 45/100\n",
      "23/23 - 0s - 7ms/step - loss: 170.3733 - mae: 10.6204 - val_loss: 166.8448 - val_mae: 10.6468\n",
      "Epoch 46/100\n",
      "23/23 - 0s - 7ms/step - loss: 168.1439 - mae: 10.5703 - val_loss: 164.3209 - val_mae: 10.5501\n",
      "Epoch 47/100\n",
      "23/23 - 0s - 6ms/step - loss: 165.8795 - mae: 10.5072 - val_loss: 162.5209 - val_mae: 10.4883\n",
      "Epoch 48/100\n",
      "23/23 - 0s - 6ms/step - loss: 163.8865 - mae: 10.4547 - val_loss: 160.1952 - val_mae: 10.3984\n",
      "Epoch 49/100\n",
      "23/23 - 0s - 8ms/step - loss: 161.7812 - mae: 10.3959 - val_loss: 157.6316 - val_mae: 10.3047\n",
      "Epoch 50/100\n",
      "23/23 - 0s - 7ms/step - loss: 159.8963 - mae: 10.3416 - val_loss: 155.9092 - val_mae: 10.2378\n",
      "Epoch 51/100\n",
      "23/23 - 0s - 6ms/step - loss: 157.7207 - mae: 10.2771 - val_loss: 154.0048 - val_mae: 10.1635\n",
      "Epoch 52/100\n",
      "23/23 - 0s - 6ms/step - loss: 155.8342 - mae: 10.2239 - val_loss: 152.0385 - val_mae: 10.0907\n",
      "Epoch 53/100\n",
      "23/23 - 0s - 6ms/step - loss: 153.7972 - mae: 10.1590 - val_loss: 149.9557 - val_mae: 10.0028\n",
      "Epoch 54/100\n",
      "23/23 - 0s - 7ms/step - loss: 151.8871 - mae: 10.0997 - val_loss: 148.4640 - val_mae: 9.9362\n",
      "Epoch 55/100\n",
      "23/23 - 0s - 6ms/step - loss: 149.9713 - mae: 10.0429 - val_loss: 146.2786 - val_mae: 9.8575\n",
      "Epoch 56/100\n",
      "23/23 - 0s - 7ms/step - loss: 147.9994 - mae: 9.9693 - val_loss: 144.5436 - val_mae: 9.7629\n",
      "Epoch 57/100\n",
      "23/23 - 0s - 7ms/step - loss: 146.0099 - mae: 9.9051 - val_loss: 141.9369 - val_mae: 9.6587\n",
      "Epoch 58/100\n",
      "23/23 - 0s - 6ms/step - loss: 144.1993 - mae: 9.8471 - val_loss: 141.0648 - val_mae: 9.6111\n",
      "Epoch 59/100\n",
      "23/23 - 0s - 7ms/step - loss: 142.3936 - mae: 9.7872 - val_loss: 139.4129 - val_mae: 9.5425\n",
      "Epoch 60/100\n",
      "23/23 - 0s - 7ms/step - loss: 140.4928 - mae: 9.7191 - val_loss: 137.4548 - val_mae: 9.4632\n",
      "Epoch 61/100\n",
      "23/23 - 0s - 7ms/step - loss: 138.7578 - mae: 9.6593 - val_loss: 135.9448 - val_mae: 9.3909\n",
      "Epoch 62/100\n",
      "23/23 - 0s - 6ms/step - loss: 136.8222 - mae: 9.5895 - val_loss: 134.3516 - val_mae: 9.3231\n",
      "Epoch 63/100\n",
      "23/23 - 0s - 7ms/step - loss: 135.1527 - mae: 9.5279 - val_loss: 133.0686 - val_mae: 9.2560\n",
      "Epoch 64/100\n",
      "23/23 - 0s - 6ms/step - loss: 133.5078 - mae: 9.4649 - val_loss: 131.4615 - val_mae: 9.1817\n",
      "Epoch 65/100\n",
      "23/23 - 0s - 7ms/step - loss: 131.5195 - mae: 9.3872 - val_loss: 130.7408 - val_mae: 9.1279\n",
      "Epoch 66/100\n",
      "23/23 - 0s - 7ms/step - loss: 129.7012 - mae: 9.3182 - val_loss: 128.9490 - val_mae: 9.0514\n",
      "Epoch 67/100\n",
      "23/23 - 0s - 7ms/step - loss: 128.0086 - mae: 9.2624 - val_loss: 128.2149 - val_mae: 9.0030\n",
      "Epoch 68/100\n",
      "23/23 - 0s - 7ms/step - loss: 126.2590 - mae: 9.1942 - val_loss: 126.1280 - val_mae: 8.9152\n",
      "Epoch 69/100\n",
      "23/23 - 0s - 7ms/step - loss: 124.5867 - mae: 9.1230 - val_loss: 125.8427 - val_mae: 8.8787\n",
      "Epoch 70/100\n",
      "23/23 - 0s - 7ms/step - loss: 122.7943 - mae: 9.0484 - val_loss: 125.1860 - val_mae: 8.8457\n",
      "Epoch 71/100\n",
      "23/23 - 0s - 7ms/step - loss: 121.1715 - mae: 8.9839 - val_loss: 124.2807 - val_mae: 8.7914\n",
      "Epoch 72/100\n",
      "23/23 - 0s - 7ms/step - loss: 119.3889 - mae: 8.9133 - val_loss: 122.9301 - val_mae: 8.7463\n",
      "Epoch 73/100\n",
      "23/23 - 0s - 6ms/step - loss: 118.0303 - mae: 8.8605 - val_loss: 122.0690 - val_mae: 8.7077\n",
      "Epoch 74/100\n",
      "23/23 - 0s - 6ms/step - loss: 116.0723 - mae: 8.7791 - val_loss: 120.8432 - val_mae: 8.6589\n",
      "Epoch 75/100\n",
      "23/23 - 0s - 7ms/step - loss: 114.5772 - mae: 8.7095 - val_loss: 119.0320 - val_mae: 8.5688\n",
      "Epoch 76/100\n",
      "23/23 - 0s - 6ms/step - loss: 112.8322 - mae: 8.6361 - val_loss: 119.2812 - val_mae: 8.5754\n",
      "Epoch 77/100\n",
      "23/23 - 0s - 6ms/step - loss: 111.1679 - mae: 8.5653 - val_loss: 118.1156 - val_mae: 8.5307\n",
      "Epoch 78/100\n",
      "23/23 - 0s - 7ms/step - loss: 109.5426 - mae: 8.4939 - val_loss: 116.8299 - val_mae: 8.4710\n",
      "Epoch 79/100\n",
      "23/23 - 0s - 6ms/step - loss: 107.8617 - mae: 8.4243 - val_loss: 116.7566 - val_mae: 8.4673\n",
      "Epoch 80/100\n",
      "23/23 - 0s - 7ms/step - loss: 106.4539 - mae: 8.3620 - val_loss: 115.8350 - val_mae: 8.4143\n",
      "Epoch 81/100\n",
      "23/23 - 0s - 7ms/step - loss: 104.8665 - mae: 8.2908 - val_loss: 114.3942 - val_mae: 8.3590\n",
      "Epoch 82/100\n",
      "23/23 - 0s - 7ms/step - loss: 103.1222 - mae: 8.2137 - val_loss: 113.5526 - val_mae: 8.3220\n",
      "Epoch 83/100\n",
      "23/23 - 0s - 7ms/step - loss: 101.7701 - mae: 8.1572 - val_loss: 112.6447 - val_mae: 8.2800\n",
      "Epoch 84/100\n",
      "23/23 - 0s - 6ms/step - loss: 100.1863 - mae: 8.0841 - val_loss: 112.9790 - val_mae: 8.2832\n",
      "Epoch 85/100\n",
      "23/23 - 0s - 7ms/step - loss: 98.7176 - mae: 8.0175 - val_loss: 112.4003 - val_mae: 8.2534\n",
      "Epoch 86/100\n",
      "23/23 - 0s - 6ms/step - loss: 97.2348 - mae: 7.9491 - val_loss: 111.4163 - val_mae: 8.2133\n",
      "Epoch 87/100\n",
      "23/23 - 0s - 7ms/step - loss: 95.8499 - mae: 7.8776 - val_loss: 110.6901 - val_mae: 8.1601\n",
      "Epoch 88/100\n",
      "23/23 - 0s - 7ms/step - loss: 94.6165 - mae: 7.8287 - val_loss: 110.4198 - val_mae: 8.1372\n",
      "Epoch 89/100\n",
      "23/23 - 0s - 7ms/step - loss: 93.1520 - mae: 7.7495 - val_loss: 108.7921 - val_mae: 8.0704\n",
      "Epoch 90/100\n",
      "23/23 - 0s - 7ms/step - loss: 91.8158 - mae: 7.6902 - val_loss: 108.0667 - val_mae: 8.0247\n",
      "Epoch 91/100\n",
      "23/23 - 0s - 6ms/step - loss: 90.4174 - mae: 7.6222 - val_loss: 108.6431 - val_mae: 8.0416\n",
      "Epoch 92/100\n",
      "23/23 - 0s - 7ms/step - loss: 88.9970 - mae: 7.5647 - val_loss: 107.5188 - val_mae: 7.9942\n",
      "Epoch 93/100\n",
      "23/23 - 0s - 6ms/step - loss: 87.8557 - mae: 7.5018 - val_loss: 107.3939 - val_mae: 7.9786\n",
      "Epoch 94/100\n",
      "23/23 - 0s - 7ms/step - loss: 86.5534 - mae: 7.4449 - val_loss: 106.4607 - val_mae: 7.9309\n",
      "Epoch 95/100\n",
      "23/23 - 0s - 7ms/step - loss: 85.2276 - mae: 7.3887 - val_loss: 106.0248 - val_mae: 7.9094\n",
      "Epoch 96/100\n",
      "23/23 - 0s - 7ms/step - loss: 84.1382 - mae: 7.3272 - val_loss: 105.1453 - val_mae: 7.8754\n",
      "Epoch 97/100\n",
      "23/23 - 0s - 7ms/step - loss: 82.8395 - mae: 7.2651 - val_loss: 105.2014 - val_mae: 7.8599\n",
      "Epoch 98/100\n",
      "23/23 - 0s - 7ms/step - loss: 81.7251 - mae: 7.2078 - val_loss: 104.0349 - val_mae: 7.8030\n",
      "Epoch 99/100\n",
      "23/23 - 0s - 6ms/step - loss: 80.5707 - mae: 7.1515 - val_loss: 103.7479 - val_mae: 7.7804\n",
      "Epoch 100/100\n",
      "23/23 - 0s - 6ms/step - loss: 79.6745 - mae: 7.1012 - val_loss: 103.7309 - val_mae: 7.7737\n"
     ]
    },
    {
     "data": {
      "text/plain": [
       "<keras.src.callbacks.history.History at 0x7f6d51ee5e10>"
      ]
     },
     "execution_count": 34,
     "metadata": {},
     "output_type": "execute_result"
    }
   ],
   "source": [
    "model.fit(predictors_norm, target, validation_split=0.3, epochs=100, verbose=2)"
   ]
  },
  {
   "cell_type": "code",
   "execution_count": 29,
   "metadata": {},
   "outputs": [
    {
     "name": "stderr",
     "output_type": "stream",
     "text": [
      "/opt/conda/lib/python3.11/site-packages/keras/src/layers/layer.py:391: UserWarning: `build()` was called on layer 'my_model', however the layer does not have a `build()` method implemented and it looks like it has unbuilt state. This will cause the layer to be marked as built, despite not being actually built, which may cause failures down the line. Make sure to implement a proper `build()` method.\n",
      "  warnings.warn(\n"
     ]
    },
    {
     "data": {
      "text/html": [
       "<pre style=\"white-space:pre;overflow-x:auto;line-height:normal;font-family:Menlo,'DejaVu Sans Mono',consolas,'Courier New',monospace\"><span style=\"font-weight: bold\">Model: \"my_model\"</span>\n",
       "</pre>\n"
      ],
      "text/plain": [
       "\u001b[1mModel: \"my_model\"\u001b[0m\n"
      ]
     },
     "metadata": {},
     "output_type": "display_data"
    },
    {
     "data": {
      "text/html": [
       "<pre style=\"white-space:pre;overflow-x:auto;line-height:normal;font-family:Menlo,'DejaVu Sans Mono',consolas,'Courier New',monospace\">┏━━━━━━━━━━━━━━━━━━━━━━━━━━━━━━━━━┳━━━━━━━━━━━━━━━━━━━━━━━━┳━━━━━━━━━━━━━━━┓\n",
       "┃<span style=\"font-weight: bold\"> Layer (type)                    </span>┃<span style=\"font-weight: bold\"> Output Shape           </span>┃<span style=\"font-weight: bold\">       Param # </span>┃\n",
       "┡━━━━━━━━━━━━━━━━━━━━━━━━━━━━━━━━━╇━━━━━━━━━━━━━━━━━━━━━━━━╇━━━━━━━━━━━━━━━┩\n",
       "│ dense_3 (<span style=\"color: #0087ff; text-decoration-color: #0087ff\">Dense</span>)                 │ ?                      │   <span style=\"color: #00af00; text-decoration-color: #00af00\">0</span> (unbuilt) │\n",
       "├─────────────────────────────────┼────────────────────────┼───────────────┤\n",
       "│ dense_4 (<span style=\"color: #0087ff; text-decoration-color: #0087ff\">Dense</span>)                 │ ?                      │   <span style=\"color: #00af00; text-decoration-color: #00af00\">0</span> (unbuilt) │\n",
       "└─────────────────────────────────┴────────────────────────┴───────────────┘\n",
       "</pre>\n"
      ],
      "text/plain": [
       "┏━━━━━━━━━━━━━━━━━━━━━━━━━━━━━━━━━┳━━━━━━━━━━━━━━━━━━━━━━━━┳━━━━━━━━━━━━━━━┓\n",
       "┃\u001b[1m \u001b[0m\u001b[1mLayer (type)                   \u001b[0m\u001b[1m \u001b[0m┃\u001b[1m \u001b[0m\u001b[1mOutput Shape          \u001b[0m\u001b[1m \u001b[0m┃\u001b[1m \u001b[0m\u001b[1m      Param #\u001b[0m\u001b[1m \u001b[0m┃\n",
       "┡━━━━━━━━━━━━━━━━━━━━━━━━━━━━━━━━━╇━━━━━━━━━━━━━━━━━━━━━━━━╇━━━━━━━━━━━━━━━┩\n",
       "│ dense_3 (\u001b[38;5;33mDense\u001b[0m)                 │ ?                      │   \u001b[38;5;34m0\u001b[0m (unbuilt) │\n",
       "├─────────────────────────────────┼────────────────────────┼───────────────┤\n",
       "│ dense_4 (\u001b[38;5;33mDense\u001b[0m)                 │ ?                      │   \u001b[38;5;34m0\u001b[0m (unbuilt) │\n",
       "└─────────────────────────────────┴────────────────────────┴───────────────┘\n"
      ]
     },
     "metadata": {},
     "output_type": "display_data"
    },
    {
     "data": {
      "text/html": [
       "<pre style=\"white-space:pre;overflow-x:auto;line-height:normal;font-family:Menlo,'DejaVu Sans Mono',consolas,'Courier New',monospace\"><span style=\"font-weight: bold\"> Total params: </span><span style=\"color: #00af00; text-decoration-color: #00af00\">0</span> (0.00 B)\n",
       "</pre>\n"
      ],
      "text/plain": [
       "\u001b[1m Total params: \u001b[0m\u001b[38;5;34m0\u001b[0m (0.00 B)\n"
      ]
     },
     "metadata": {},
     "output_type": "display_data"
    },
    {
     "data": {
      "text/html": [
       "<pre style=\"white-space:pre;overflow-x:auto;line-height:normal;font-family:Menlo,'DejaVu Sans Mono',consolas,'Courier New',monospace\"><span style=\"font-weight: bold\"> Trainable params: </span><span style=\"color: #00af00; text-decoration-color: #00af00\">0</span> (0.00 B)\n",
       "</pre>\n"
      ],
      "text/plain": [
       "\u001b[1m Trainable params: \u001b[0m\u001b[38;5;34m0\u001b[0m (0.00 B)\n"
      ]
     },
     "metadata": {},
     "output_type": "display_data"
    },
    {
     "data": {
      "text/html": [
       "<pre style=\"white-space:pre;overflow-x:auto;line-height:normal;font-family:Menlo,'DejaVu Sans Mono',consolas,'Courier New',monospace\"><span style=\"font-weight: bold\"> Non-trainable params: </span><span style=\"color: #00af00; text-decoration-color: #00af00\">0</span> (0.00 B)\n",
       "</pre>\n"
      ],
      "text/plain": [
       "\u001b[1m Non-trainable params: \u001b[0m\u001b[38;5;34m0\u001b[0m (0.00 B)\n"
      ]
     },
     "metadata": {},
     "output_type": "display_data"
    }
   ],
   "source": [
    "model.compile(\n",
    "    optimizer=keras.optimizers.Adam(learning_rate=0.001),  # Specify optimizer\n",
    "    loss=\"mse\",  # Mean squared error for regression\n",
    "    metrics=[\"mae\"]  # Mean absolute error as an evaluation metric\n",
    ")\n",
    "\n",
    "# Print the model summary (input shape needs to be known first)\n",
    "model.build(input_shape=(None,predictors_norm.shape[1]))  # Replace <input_dim> with your feature dimension\n",
    "model.summary()"
   ]
  },
  {
   "cell_type": "code",
   "execution_count": null,
   "metadata": {},
   "outputs": [],
   "source": []
  },
  {
   "cell_type": "code",
   "execution_count": 18,
   "metadata": {},
   "outputs": [],
   "source": [
    "# build the model\n",
    "model = regression_model()"
   ]
  },
  {
   "cell_type": "markdown",
   "metadata": {},
   "source": [
    "Next, we will train and test the model at the same time using the *fit* method. We will leave out 30% of the data for validation and we will train the model for 100 epochs.\n"
   ]
  },
  {
   "cell_type": "code",
   "execution_count": 19,
   "metadata": {},
   "outputs": [
    {
     "name": "stdout",
     "output_type": "stream",
     "text": [
      "Epoch 1/100\n",
      "23/23 - 1s - 50ms/step - loss: 1635.2179 - val_loss: 1125.1571\n",
      "Epoch 2/100\n",
      "23/23 - 0s - 8ms/step - loss: 1473.4620 - val_loss: 978.7952\n",
      "Epoch 3/100\n",
      "23/23 - 0s - 9ms/step - loss: 1216.0286 - val_loss: 764.9731\n",
      "Epoch 4/100\n",
      "23/23 - 0s - 8ms/step - loss: 855.5110 - val_loss: 510.5189\n",
      "Epoch 5/100\n",
      "23/23 - 0s - 8ms/step - loss: 504.8908 - val_loss: 311.4250\n",
      "Epoch 6/100\n",
      "23/23 - 0s - 12ms/step - loss: 305.4613 - val_loss: 221.3737\n",
      "Epoch 7/100\n",
      "23/23 - 0s - 7ms/step - loss: 250.3803 - val_loss: 194.9840\n",
      "Epoch 8/100\n",
      "23/23 - 0s - 7ms/step - loss: 228.5235 - val_loss: 189.5802\n",
      "Epoch 9/100\n",
      "23/23 - 0s - 7ms/step - loss: 214.2561 - val_loss: 182.4106\n",
      "Epoch 10/100\n",
      "23/23 - 0s - 7ms/step - loss: 204.9422 - val_loss: 180.9696\n",
      "Epoch 11/100\n",
      "23/23 - 0s - 7ms/step - loss: 196.3575 - val_loss: 177.0307\n",
      "Epoch 12/100\n",
      "23/23 - 0s - 7ms/step - loss: 189.4918 - val_loss: 173.6255\n",
      "Epoch 13/100\n",
      "23/23 - 0s - 7ms/step - loss: 183.4256 - val_loss: 172.7505\n",
      "Epoch 14/100\n",
      "23/23 - 0s - 7ms/step - loss: 178.4370 - val_loss: 170.4493\n",
      "Epoch 15/100\n",
      "23/23 - 0s - 7ms/step - loss: 173.6194 - val_loss: 168.5670\n",
      "Epoch 16/100\n",
      "23/23 - 0s - 7ms/step - loss: 169.7473 - val_loss: 166.8816\n",
      "Epoch 17/100\n",
      "23/23 - 0s - 6ms/step - loss: 165.7526 - val_loss: 164.6941\n",
      "Epoch 18/100\n",
      "23/23 - 0s - 7ms/step - loss: 162.2676 - val_loss: 164.6783\n",
      "Epoch 19/100\n",
      "23/23 - 0s - 6ms/step - loss: 159.7866 - val_loss: 163.0389\n",
      "Epoch 20/100\n",
      "23/23 - 0s - 7ms/step - loss: 157.2132 - val_loss: 161.6031\n",
      "Epoch 21/100\n",
      "23/23 - 0s - 6ms/step - loss: 154.6644 - val_loss: 160.0975\n",
      "Epoch 22/100\n",
      "23/23 - 0s - 7ms/step - loss: 152.6417 - val_loss: 160.7485\n",
      "Epoch 23/100\n",
      "23/23 - 0s - 7ms/step - loss: 151.0485 - val_loss: 156.7631\n",
      "Epoch 24/100\n",
      "23/23 - 0s - 7ms/step - loss: 148.4905 - val_loss: 159.1981\n",
      "Epoch 25/100\n",
      "23/23 - 0s - 6ms/step - loss: 147.9048 - val_loss: 157.6924\n",
      "Epoch 26/100\n",
      "23/23 - 0s - 6ms/step - loss: 144.6948 - val_loss: 159.4255\n",
      "Epoch 27/100\n",
      "23/23 - 0s - 7ms/step - loss: 143.3003 - val_loss: 157.9716\n",
      "Epoch 28/100\n",
      "23/23 - 0s - 7ms/step - loss: 141.3880 - val_loss: 159.4797\n",
      "Epoch 29/100\n",
      "23/23 - 0s - 7ms/step - loss: 140.1720 - val_loss: 155.4544\n",
      "Epoch 30/100\n",
      "23/23 - 0s - 7ms/step - loss: 138.9350 - val_loss: 158.0833\n",
      "Epoch 31/100\n",
      "23/23 - 0s - 6ms/step - loss: 137.2504 - val_loss: 155.2047\n",
      "Epoch 32/100\n",
      "23/23 - 0s - 7ms/step - loss: 135.5505 - val_loss: 158.7168\n",
      "Epoch 33/100\n",
      "23/23 - 0s - 6ms/step - loss: 134.8158 - val_loss: 156.2439\n",
      "Epoch 34/100\n",
      "23/23 - 0s - 7ms/step - loss: 133.7527 - val_loss: 157.0804\n",
      "Epoch 35/100\n",
      "23/23 - 0s - 7ms/step - loss: 132.9062 - val_loss: 154.3876\n",
      "Epoch 36/100\n",
      "23/23 - 0s - 7ms/step - loss: 130.6366 - val_loss: 158.2815\n",
      "Epoch 37/100\n",
      "23/23 - 0s - 7ms/step - loss: 128.6590 - val_loss: 157.4171\n",
      "Epoch 38/100\n",
      "23/23 - 0s - 7ms/step - loss: 127.5742 - val_loss: 155.7455\n",
      "Epoch 39/100\n",
      "23/23 - 0s - 7ms/step - loss: 125.7037 - val_loss: 154.5247\n",
      "Epoch 40/100\n",
      "23/23 - 0s - 7ms/step - loss: 124.2879 - val_loss: 155.0307\n",
      "Epoch 41/100\n",
      "23/23 - 0s - 8ms/step - loss: 123.2334 - val_loss: 153.2393\n",
      "Epoch 42/100\n",
      "23/23 - 0s - 7ms/step - loss: 122.4083 - val_loss: 157.1931\n",
      "Epoch 43/100\n",
      "23/23 - 0s - 7ms/step - loss: 121.2243 - val_loss: 156.2749\n",
      "Epoch 44/100\n",
      "23/23 - 0s - 6ms/step - loss: 118.5332 - val_loss: 153.4515\n",
      "Epoch 45/100\n",
      "23/23 - 0s - 6ms/step - loss: 117.9692 - val_loss: 151.3080\n",
      "Epoch 46/100\n",
      "23/23 - 0s - 6ms/step - loss: 115.4054 - val_loss: 153.5247\n",
      "Epoch 47/100\n",
      "23/23 - 0s - 7ms/step - loss: 113.5242 - val_loss: 151.8128\n",
      "Epoch 48/100\n",
      "23/23 - 0s - 6ms/step - loss: 111.7233 - val_loss: 150.2486\n",
      "Epoch 49/100\n",
      "23/23 - 0s - 7ms/step - loss: 110.0262 - val_loss: 150.9418\n",
      "Epoch 50/100\n",
      "23/23 - 0s - 7ms/step - loss: 107.6423 - val_loss: 150.6678\n",
      "Epoch 51/100\n",
      "23/23 - 0s - 7ms/step - loss: 105.9218 - val_loss: 150.7633\n",
      "Epoch 52/100\n",
      "23/23 - 0s - 6ms/step - loss: 103.5594 - val_loss: 147.2115\n",
      "Epoch 53/100\n",
      "23/23 - 0s - 7ms/step - loss: 101.3891 - val_loss: 149.5831\n",
      "Epoch 54/100\n",
      "23/23 - 0s - 7ms/step - loss: 99.3592 - val_loss: 144.2555\n",
      "Epoch 55/100\n",
      "23/23 - 0s - 12ms/step - loss: 97.0108 - val_loss: 153.4095\n",
      "Epoch 56/100\n",
      "23/23 - 0s - 10ms/step - loss: 95.0002 - val_loss: 142.1520\n",
      "Epoch 57/100\n",
      "23/23 - 0s - 7ms/step - loss: 91.4928 - val_loss: 144.5682\n",
      "Epoch 58/100\n",
      "23/23 - 0s - 7ms/step - loss: 89.1467 - val_loss: 149.1324\n",
      "Epoch 59/100\n",
      "23/23 - 0s - 7ms/step - loss: 86.5287 - val_loss: 135.7195\n",
      "Epoch 60/100\n",
      "23/23 - 0s - 7ms/step - loss: 84.0998 - val_loss: 141.5346\n",
      "Epoch 61/100\n",
      "23/23 - 0s - 7ms/step - loss: 80.0280 - val_loss: 133.1537\n",
      "Epoch 62/100\n",
      "23/23 - 0s - 7ms/step - loss: 77.1474 - val_loss: 136.1878\n",
      "Epoch 63/100\n",
      "23/23 - 0s - 7ms/step - loss: 74.1147 - val_loss: 131.6424\n",
      "Epoch 64/100\n",
      "23/23 - 0s - 7ms/step - loss: 71.3686 - val_loss: 132.7262\n",
      "Epoch 65/100\n",
      "23/23 - 0s - 7ms/step - loss: 68.7701 - val_loss: 131.3787\n",
      "Epoch 66/100\n",
      "23/23 - 0s - 7ms/step - loss: 65.4820 - val_loss: 128.2782\n",
      "Epoch 67/100\n",
      "23/23 - 0s - 7ms/step - loss: 63.3371 - val_loss: 131.3831\n",
      "Epoch 68/100\n",
      "23/23 - 0s - 7ms/step - loss: 60.7639 - val_loss: 125.8777\n",
      "Epoch 69/100\n",
      "23/23 - 0s - 7ms/step - loss: 58.5797 - val_loss: 124.9074\n",
      "Epoch 70/100\n",
      "23/23 - 0s - 6ms/step - loss: 58.0305 - val_loss: 124.5749\n",
      "Epoch 71/100\n",
      "23/23 - 0s - 7ms/step - loss: 56.4283 - val_loss: 130.7214\n",
      "Epoch 72/100\n",
      "23/23 - 0s - 8ms/step - loss: 54.3843 - val_loss: 123.9901\n",
      "Epoch 73/100\n",
      "23/23 - 0s - 7ms/step - loss: 52.5649 - val_loss: 121.5853\n",
      "Epoch 74/100\n",
      "23/23 - 0s - 7ms/step - loss: 50.7208 - val_loss: 124.3784\n",
      "Epoch 75/100\n",
      "23/23 - 0s - 7ms/step - loss: 50.7626 - val_loss: 118.0803\n",
      "Epoch 76/100\n",
      "23/23 - 0s - 7ms/step - loss: 48.9064 - val_loss: 118.7655\n",
      "Epoch 77/100\n",
      "23/23 - 0s - 7ms/step - loss: 48.8003 - val_loss: 125.5571\n",
      "Epoch 78/100\n",
      "23/23 - 0s - 7ms/step - loss: 47.3043 - val_loss: 117.9061\n",
      "Epoch 79/100\n",
      "23/23 - 0s - 7ms/step - loss: 46.4718 - val_loss: 114.2795\n",
      "Epoch 80/100\n",
      "23/23 - 0s - 6ms/step - loss: 45.1987 - val_loss: 121.1635\n",
      "Epoch 81/100\n",
      "23/23 - 0s - 7ms/step - loss: 44.2473 - val_loss: 120.0783\n",
      "Epoch 82/100\n",
      "23/23 - 0s - 6ms/step - loss: 43.4192 - val_loss: 115.5342\n",
      "Epoch 83/100\n",
      "23/23 - 0s - 7ms/step - loss: 42.7038 - val_loss: 116.6367\n",
      "Epoch 84/100\n",
      "23/23 - 0s - 7ms/step - loss: 41.9273 - val_loss: 116.5040\n",
      "Epoch 85/100\n",
      "23/23 - 0s - 6ms/step - loss: 41.4135 - val_loss: 116.4144\n",
      "Epoch 86/100\n",
      "23/23 - 0s - 7ms/step - loss: 40.5918 - val_loss: 120.7866\n",
      "Epoch 87/100\n",
      "23/23 - 0s - 8ms/step - loss: 40.0777 - val_loss: 119.5008\n",
      "Epoch 88/100\n",
      "23/23 - 0s - 8ms/step - loss: 40.0928 - val_loss: 114.0714\n",
      "Epoch 89/100\n",
      "23/23 - 0s - 8ms/step - loss: 39.1787 - val_loss: 119.0630\n",
      "Epoch 90/100\n",
      "23/23 - 0s - 8ms/step - loss: 38.5126 - val_loss: 119.1150\n",
      "Epoch 91/100\n",
      "23/23 - 0s - 7ms/step - loss: 37.9587 - val_loss: 111.3052\n",
      "Epoch 92/100\n",
      "23/23 - 0s - 7ms/step - loss: 37.5294 - val_loss: 119.5952\n",
      "Epoch 93/100\n",
      "23/23 - 0s - 7ms/step - loss: 36.9914 - val_loss: 119.4800\n",
      "Epoch 94/100\n",
      "23/23 - 0s - 8ms/step - loss: 36.3330 - val_loss: 122.9547\n",
      "Epoch 95/100\n",
      "23/23 - 0s - 7ms/step - loss: 36.1295 - val_loss: 122.3791\n",
      "Epoch 96/100\n",
      "23/23 - 0s - 7ms/step - loss: 35.3368 - val_loss: 120.2802\n",
      "Epoch 97/100\n",
      "23/23 - 0s - 7ms/step - loss: 35.2829 - val_loss: 123.9529\n",
      "Epoch 98/100\n",
      "23/23 - 0s - 6ms/step - loss: 34.8619 - val_loss: 123.7424\n",
      "Epoch 99/100\n",
      "23/23 - 0s - 7ms/step - loss: 34.2542 - val_loss: 117.8139\n",
      "Epoch 100/100\n",
      "23/23 - 0s - 8ms/step - loss: 34.0595 - val_loss: 123.7024\n"
     ]
    },
    {
     "data": {
      "text/plain": [
       "<keras.src.callbacks.history.History at 0x7f6d876f7750>"
      ]
     },
     "execution_count": 19,
     "metadata": {},
     "output_type": "execute_result"
    }
   ],
   "source": [
    "# fit the model\n",
    "model.fit(predictors_norm, target, validation_split=0.3, epochs=100, verbose=2)"
   ]
  },
  {
   "cell_type": "markdown",
   "metadata": {},
   "source": [
    "<strong>You can refer to this [link](https://keras.io/models/sequential/) to learn about other functions that you can use for prediction or evaluation.</strong>\n"
   ]
  },
  {
   "cell_type": "markdown",
   "metadata": {},
   "source": [
    "Feel free to vary the following and note what impact each change has on the model's performance:\n",
    "\n",
    "1. Increase or decreate number of neurons in hidden layers\n",
    "2. Add more hidden layers\n",
    "3. Increase number of epochs\n"
   ]
  },
  {
   "cell_type": "markdown",
   "metadata": {},
   "source": [
    "### Thank you for completing this lab!\n",
    "\n",
    "This notebook was created by [Alex Aklson](https://www.linkedin.com/in/aklson/). I hope you found this lab interesting and educational. Feel free to contact me if you have any questions!\n"
   ]
  },
  {
   "cell_type": "markdown",
   "metadata": {},
   "source": [
    "<!--\n",
    "## Change Log\n",
    "\n",
    "|  Date (YYYY-MM-DD) |  Version | Changed By  |  Change Description |\n",
    "|---|---|---|---|\n",
    "| 2024-11-20  | 3.0  | Aman  |  Updated the library versions to current |\n",
    "| 2020-09-21  | 2.0  | Srishti  |  Migrated Lab to Markdown and added to course repo in GitLab |\n",
    "\n",
    "\n",
    "\n",
    "<hr>\n",
    "\n",
    "## <h3 align=\"center\"> © IBM Corporation. All rights reserved. <h3/>\n"
   ]
  },
  {
   "cell_type": "markdown",
   "metadata": {},
   "source": [
    "<hr>\n",
    "\n",
    "Copyright &copy; [IBM Developer Skills Network](https://cognitiveclass.ai/?utm_source=bducopyrightlink&utm_medium=dswb&utm_campaign=bdu). This notebook and its source code are released under the terms of the [MIT License](https://opensource.org/license/mit).\n"
   ]
  },
  {
   "cell_type": "code",
   "execution_count": null,
   "metadata": {},
   "outputs": [],
   "source": []
  }
 ],
 "metadata": {
  "kernelspec": {
   "display_name": "Python 3 (ipykernel)",
   "language": "python",
   "name": "python3"
  },
  "language_info": {
   "codemirror_mode": {
    "name": "ipython",
    "version": 3
   },
   "file_extension": ".py",
   "mimetype": "text/x-python",
   "name": "python",
   "nbconvert_exporter": "python",
   "pygments_lexer": "ipython3",
   "version": "3.11.9"
  },
  "prev_pub_hash": "2ab6b5dee853e752327ec5aea92a88a55ca7798d1bf8f8f9f3350d0e187a1d54"
 },
 "nbformat": 4,
 "nbformat_minor": 4
}
