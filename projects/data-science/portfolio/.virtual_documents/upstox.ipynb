import requests
import os
from dotenv import load_dotenv
base_url = "https://api.upstox.com/v2/login/authorization/dialog"
response_type = "code"
load_dotenv()
client_id = os.getenv("client_id")
client_secret = os.getenv("client_secret")
redirect_uri = "https://google.com"



# Construct the full URL manually
full_url = (
    f"{base_url}?"
    f"response_type={response_type}&"
    f"client_id={client_id}&"
    f"redirect_uri={redirect_uri}&"
)
print(full_url)


import requests

# Define the URL and headers
url = "https://api.upstox.com/v2/login/authorization/token"
headers = {
    "accept": "application/json",
    "Content-Type": "application/x-www-form-urlencoded"
}

# Define the payload (data to be sent in the POST request)
payload = {
    "code": "TCVbsY",
    "client_id": client_id,
    "client_secret": client_secret,
    "redirect_uri": "https://google.com",
    "grant_type": "authorization_code"
}

# Make the POST request
response = requests.post(url, headers=headers, data=payload)

# Print the response
print(response.status_code)
print(response.json())  # Assuming the response is JSON formatted



access_token = response.json()['access_token']


base_url = "https://api.upstox.com/v2/historical-candle"
symbol = "NSE_EQ|INE002A01018"          # Replace with actual symbol
interval = "30minute"          # Replace with desired interval (e.g., '1min', '1day')
to_date = "2024-12-19"     # Replace with the desired end date
from_date = "2023-06-01"   # Replace with the desired start date

# Construct the full URL
url = f"{base_url}/{symbol}/{interval}/{to_date}/{from_date}"

# Define headers
headers = {
    "Accept": "application/json"
}

# Make the GET request
response = requests.get(url, headers=headers)

# Handle the response



import pandas as pd


column_names = ['timestamp', 'open', 'high', 'low', 'close', 'volume', 'oi']
h = response.json()['data']['candles']
dt = pd.DataFrame(h,columns=column_names)


dt


pip install google-cloud-storage



from google.cloud import storage
storage_client = storage.Client()



df = pd.DataFrame(candles, columns=columns)


df['timestamp'] = pd.to_datetime(df['timestamp'])


import seaborn as sns
import matplotlib.pyplot as plt


sns.lineplot(data=df, x='timestamp', y='open')


pip install upstox-python-sdk


import upstox_client


from __future__ import print_function
import time
import upstox_client
from upstox_client.rest import ApiException
from pprint import pprint

# Configure OAuth2 access token for authorization: OAUTH2
configuration = upstox_client.Configuration()
configuration.access_token = access_token

# create an instance of the API class
api_instance = upstox_client.WebsocketApi(upstox_client.ApiClient(configuration))
api_version = 'api_version_example' # str | API Version Header

try:
    # Market Data Feed Authorize
    api_response = api_instance.get_market_data_feed_authorize(api_version)
    print(api_response)
except ApiException as e:
    print("Exception when calling WebsocketApi->get_market_data_feed_authorize: %s\n" % e)


from __future__ import print_function
import json
import websocket
import pandas as pd
import upstox_client
from upstox_client.rest import ApiException

# Configure OAuth2 access token for authorization: OAUTH2
configuration = upstox_client.Configuration()
configuration.access_token = access_token # Replace with your actual access token

# Create an instance of the API class
api_instance = upstox_client.WebsocketApi(upstox_client.ApiClient(configuration))
api_version = "v2"  # Replace with the correct API version

# Initialize an empty DataFrame to store WebSocket data
columns = ['timestamp', 'open', 'high', 'low', 'close', 'volume', 'open_interest']
dataframe = pd.DataFrame(columns=columns)

def on_message(ws, message):
    """Callback function for processing incoming WebSocket messages."""
    global dataframe
    data = json.loads(message)
    print("Received data:", data)
    
    # Extract relevant fields and append to DataFrame
    if "data" in data:  # Ensure the key 'data' exists
        for entry in data["data"]:
            # Replace the following with actual fields from your WebSocket data
            timestamp = entry.get("timestamp")
            open = entry.get("open")
            high = entry.get("high")
            low = entry.get("low")
            close = entry.get("close")
            volume = entry.get("volume")
            open_interest = entry.get("open_interest")

            # Append the new row to the DataFrame
            dataframe = pd.concat([dataframe, pd.DataFrame([{
                "timestamp" : timestamp,
            "open" : open,
            "high" : high,
            "low" : low,
            "close" : close,
            "volume" : volume,
            "open_interest" : open_interest
            }])], ignore_index=True)

            # Save to file periodically (optional)
            dataframe.to_csv("market_data.csv", index=False)

def on_error(ws, error):
    """Callback function for handling errors."""
    print("Error:", error)

def on_close(ws):
    """Callback function for when the WebSocket connection closes."""
    print("WebSocket connection closed")

def on_open(ws):
    """Callback function for when the WebSocket connection opens."""
    print("WebSocket connection opened")
    # Send subscription request to the WebSocket
    subscribe_message = {
        "guid": "someguid",
        "method": "sub",
        "data": {
            "mode": "full",
            "instrumentKeys": ["NSE_EQ|INE002A01018"]  # Replace with your instrument keys
        }
    }
    ws.send(json.dumps(subscribe_message))
    print("Subscription request sent")

try:
    # Market Data Feed Authorization
    api_response = api_instance.get_market_data_feed_authorize(api_version)
    authorized_redirect_url = api_response.data.authorized_redirect_uri
    print("Authorized Redirect URL:", authorized_redirect_url)

    # Connect to the WebSocket using the authorized redirect URL
    websocket.enableTrace(True)
    ws = websocket.WebSocketApp(
        authorized_redirect_url,
        on_message=on_message,
        on_error=on_error,
        on_close=on_close
    )
    ws.on_open = on_open
    ws.run_forever()
except ApiException as e:
    print(f"Exception when calling WebsocketApi->get_market_data_feed_authorize: {e}\n")



import upstox_client

def on_message(message):
    print(message)


def main():
    configuration = upstox_client.Configuration()
    
    configuration.access_token = access_token

    streamer = upstox_client.MarketDataStreamer(
        upstox_client.ApiClient(configuration), ["NSE_INDEX|Nifty 50"], "full")

    streamer.on("message", on_message)
    streamer.auto_reconnect(False)
    streamer.connect()
    streamer.disconnect()

if __name__ == "__main__":
    main()


streamer.disconnect()


x = "{'feeds': {'NSE_INDEX|Nifty 50': {'ff': {'indexFF': {'ltpc': {'ltp': 23849.2, 'ltt': '1735287812000', 'cp': 23750.2}, 'marketOHLC': {'ohlc': [{'interval': '1d', 'open': 23801.4, 'high': 23938.85, 'low': 23800.6, 'close': 23849.2, 'ts': '1735237800000'}, {'interval': 'I1', 'open': 23844.9, 'high': 23852.4, 'low': 23844.0, 'close': 23851.85, 'ts': '1735287720000'}, {'interval': 'I1', 'open': 23850.85, 'high': 23853.1, 'low': 23848.25, 'close': 23849.2, 'ts': '1735287780000'}, {'interval': 'I30', 'open': 23855.45, 'high': 23860.25, 'low': 23834.55, 'close': 23849.25, 'ts': '1735285500000'}, {'interval': 'I30', 'open': 23850.45, 'high': 23854.25, 'low': 23842.1, 'close': 23849.2, 'ts': '1735287300000'}]}, 'yh': 26277.35, 'yl': 21137.2}}}}, 'currentTs': '1735287812491'}"


import requests


json.parse(x)


import upstox_client
import pandas as pd

# Function to handle the live feed messages
def on_message(message):
    print("Received Message:", message)
    
    try:
        # Extracting only 30-minute OHLC data
        thirty_min_data = message['feeds']['NSE_INDEX|Nifty 50']['ff']['indexFF']['marketOHLC']['ohlc'][2]
        print(thirty_min_data)
        #thirty_min_data = [entry for entry in market_data if entry['interval'] == 'I1']
        
        if thirty_min_data:
            # Convert to DataFrame
            df = pd.DataFrame(thirty_min_data)
            # Convert timestamps to a readable format
            df['timestamp'] = pd.to_datetime(df['ts'].astype(int), unit='ms')
            
            # Display or process the data
        else:
            print("No 30-minute interval data received.")
    except Exception as e:
        print(f"Error parsing message: {e}")

# Function to handle the Upstox connection and start the market data stream
def main():
    # Set up access token (ensure you define this value)
    #access_token = 'your_access_token_here'  # Replace with actual token
    
    # Set up the configuration for Upstox API
    configuration = upstox_client.Configuration()
    configuration.access_token = access_token

    # Initialize the MarketDataStreamer with the configuration and the symbol
    streamer = upstox_client.MarketDataStreamer(
        upstox_client.ApiClient(configuration), ["NSE_INDEX|Nifty 50"], "full"
    )

    # Set the callback for message processing
    streamer.on("message", on_message)
    
    # Optional: Set auto reconnect behavior
    streamer.auto_reconnect(False)
    
    # Connect to the Upstox data stream
    streamer.connect()

    # Disconnect after a period or event (optional - adjust as per your requirement)
    # streamer.disconnect()

if __name__ == "__main__":
    main()



x = {'type': 'live_feed', 'feeds': {'NSE_INDEX|Nifty 50': {'ff': {'indexFF': {'ltpc': {'ltp': 22371.25, 'ltt': '1741238054000', 'cp': 22337.3}, 'marketOHLC': {'ohlc': [{'interval': '1d', 'open': 22476.35, 'high': 22491.3, 'low': 22245.85, 'close': 22371.25, 'ts': '1741199400000'}, {'interval': 'I1', 'open': 22367.1, 'high': 22374.85, 'low': 22366.95, 'close': 22370.6, 'ts': '1741237980000'}, {'interval': 'I1', 'open': 22370.35, 'high': 22371.45, 'low': 22368.8, 'close': 22371.25, 'ts': '1741238040000'}, {'interval': 'I30', 'open': 22315.25, 'high': 22364.8, 'low': 22245.85, 'close': 22331.6, 'ts': '1741234500000'}, {'interval': 'I30', 'open': 22330.9, 'high': 22377.8, 'low': 22322.95, 'close': 22371.25, 'ts': '1741236300000'}]}, 'yh': 26277.35, 'yl': 21281.45}}}}, 'currentTs': '1741238054442'}


x = {'feeds': {'NSE_INDEX|Nifty 50': {'ff': {'indexFF': {'ltpc': {'ltp': 22367.15, 'ltt': '1741238931000', 'cp': 22337.3}, 'marketOHLC': {'ohlc': [{'interval': '1d', 'open': 22476.35, 'high': 22491.3, 'low': 22245.85, 'close': 22367.15, 'ts': '1741199400000'}, {'interval': 'I1', 'open': 22367.85, 'high': 22370.25, 'low': 22363.5, 'close': 22365.05, 'ts': '1741238820000'}, {'interval': 'I1', 'open': 22365.25, 'high': 22368.85, 'low': 22361.4, 'close': 22367.15, 'ts': '1741238880000'}, {'interval': 'I30', 'open': 22330.9, 'high': 22377.8, 'low': 22322.95, 'close': 22366.5, 'ts': '1741236300000'}, {'interval': 'I30', 'open': 22366.35, 'high': 22378.5, 'low': 22354.05, 'close': 22367.15, 'ts': '1741238100000'}]}, 'yh': 26277.35, 'yl': 21281.45}}}}, 'currentTs': '1741238931695'}



x['feeds']['NSE_INDEX|Nifty 50']['ff']['indexFF']['marketOHLC']['ohlc'][1]


x['feeds']['NSE_INDEX|Nifty 50']['ff']['indexFF']['marketOHLC']['ohlc'][2]


x = {'type': 'live_feed', 'feeds': {'NSE_INDEX|Nifty 50': {'ff': {'indexFF': {'ltpc': {'ltp': 22419.75, 'ltt': '1741240161000', 'cp': 22337.3}, 'marketOHLC': {'ohlc': [{'interval': '1d', 'open': 22476.35, 'high': 22491.3, 'low': 22245.85, 'close': 22419.75, 'ts': '1741199400000'}, {'interval': 'I1', 'open': 22430.0, 'high': 22431.15, 'low': 22420.8, 'close': 22422.25, 'ts': '1741240080000'}, {'interval': 'I1', 'open': 22422.3, 'high': 22422.55, 'low': 22418.15, 'close': 22419.75, 'ts': '1741240140000'}, {'interval': 'I30', 'open': 22366.35, 'high': 22455.55, 'low': 22354.05, 'close': 22436.25, 'ts': '1741238100000'}, {'interval': 'I30', 'open': 22436.15, 'high': 22438.8, 'low': 22418.15, 'close': 22419.75, 'ts': '1741239900000'}]}, 'yh': 26277.35, 'yl': 21281.45}}}}, 'currentTs': '1741240161879'}


x['feeds']['NSE_INDEX|Nifty 50']['ff']['indexFF']['marketOHLC']['ohlc'][2]


x['type']





def hello_get():
    """HTTP Cloud Function to fetch and store historical data from Upstox."""
    load_dotenv()
    client_id = os.getenv("client_id")
    client_secret = os.getenv("client_secret")
    bucket_name = os.getenv("bucket_name")

    if not client_id or not client_secret or not bucket_name:
        print("Error: client_id, client_secret, or bucket_name not set in environment variables.")
        return {"error": "Missing environment variables"}, 500

    storage_client = storage.Client()
    bucket = storage_client.bucket(bucket_name)

    # --- Upstox Authentication ---
    url_auth = "https://api.upstox.com/v2/login/authorization/token"
    headers_auth = {
        "accept": "application/json",
        "Content-Type": "application/x-www-form-urlencoded"
    }

    # THIS CODE IS A MOCK FOR THE SAKE OF DEMO, YOU NEED TO GET AN ACTUAL CODE FROM UPSTOX.
    # If you call this function again, this code will likely fail, because the code will be invalid.
    code = "fGbo8G"
    redirect_uri = "https://google.com"

    payload_auth = {
        "code": code,
        "client_id": client_id,
        "client_secret": client_secret,
        "redirect_uri": redirect_uri,
        "grant_type": "authorization_code"
    }

    # First API call - Get Access Token
    response_auth = requests.post(url_auth, headers=headers_auth, data=payload_auth)
    if response_auth.status_code != 200:
        print(f"Error during authentication: {response_auth.status_code}, {response_auth.text}")
        return {"error": "Authentication failed"}, response_auth.status_code

    print(response_auth.status_code)
    print(response_auth.json())
    access_token = response_auth.json()['access_token']

    # --- Upstox Historical Data ---
    base_url = "https://api.upstox.com/v2/historical-candle"
    symbol = "NSE_EQ|INE002A01018"  # Example symbol
    interval = "30minute"

    # Calculate dates for the past week
    today = datetime.today()
    one_week_ago = today - timedelta(days=7)

    # Format dates for Upstox API
    to_date = today.strftime("%Y-%m-%d")
    from_date = one_week_ago.strftime("%Y-%m-%d")

    url_historical = f"{base_url}/{symbol}/{interval}/{to_date}/{from_date}"
    headers_historical = {
        "Accept": "application/json",
        # "Authorization": f"Bearer {access_token}" #You need to uncomment this when the token is valid
    }

    # Second API call - Get Historical Data
    response_historical = requests.get(url_historical, headers=headers_historical)
    if response_historical.status_code != 200:
        print(f"Error fetching historical data: {response_historical.status_code}, {response_historical.text}")
        return {"error": "Failed to fetch historical data"}, response_historical.status_code

    print("Response JSON:", response_historical.json())

    # --- Data Processing and Storage ---
    column_names = ['timestamp', 'open', 'high', 'low', 'close', 'volume', 'oi']
    try:
        h = response_historical.json()['data']['candles']
    except (KeyError, TypeError) as e:
        print(f"Error processing JSON: {e}")
        print(f"Response Content: {response_historical.text}")
        return {"error": "Error processing JSON data from Upstox"}, 500

    dt = pd.DataFrame(h, columns=column_names)
    blob = bucket.blob('filename')  # Change this if you want to use a different file name or change it dynamically.
    csv_buffer = StringIO()
    dt.to_csv(csv_buffer, index=False)
    csv_string = csv_buffer.getvalue()

    blob.upload_from_string(csv_string, content_type='text/csv')
    print(f"Data successfully uploaded to {bucket_name} in file: {blob.name}")
    return csv_string


hello_get()


import json


import json

# Open and read the JSON file
with open('/home/kronos/Downloads/stock.json', 'r') as file:
    data = json.load(file)

# Print the parsed data
print(data)




